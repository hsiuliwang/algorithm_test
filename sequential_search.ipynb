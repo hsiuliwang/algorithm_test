{
  "nbformat": 4,
  "nbformat_minor": 0,
  "metadata": {
    "colab": {
      "name": "Untitled4.ipynb",
      "provenance": [],
      "authorship_tag": "ABX9TyPkpHn/5STPHfWIBglcAzhk",
      "include_colab_link": true
    },
    "kernelspec": {
      "name": "python3",
      "display_name": "Python 3"
    }
  },
  "cells": [
    {
      "cell_type": "markdown",
      "metadata": {
        "id": "view-in-github",
        "colab_type": "text"
      },
      "source": [
        "<a href=\"https://colab.research.google.com/github/hsiuliwang/algorithm_test/blob/master/sequential_search.ipynb\" target=\"_parent\"><img src=\"https://colab.research.google.com/assets/colab-badge.svg\" alt=\"Open In Colab\"/></a>"
      ]
    },
    {
      "cell_type": "code",
      "metadata": {
        "id": "x03mKm_jxPSU",
        "outputId": "534c0466-5b70-43b5-e1b6-aea3f2eaa718",
        "colab": {
          "base_uri": "https://localhost:8080/",
          "height": 34
        }
      },
      "source": [
        "data=[20,31,50,17,16,36,19,8]\n",
        "\n",
        "def sequential_search(data,key):\n",
        "  for i in data:\n",
        "    if i == key:\n",
        "      print(\"found\")\n",
        "      break\n",
        "    else:\n",
        "      if i == len(data):\n",
        "        print(\"no found\")\n",
        "      else:\n",
        "        continue\n",
        "\n",
        "sequential_search(data,30)"
      ],
      "execution_count": 24,
      "outputs": [
        {
          "output_type": "stream",
          "text": [
            "no found\n"
          ],
          "name": "stdout"
        }
      ]
    },
    {
      "cell_type": "code",
      "metadata": {
        "id": "Zff1fUpz1dpd"
      },
      "source": [
        ""
      ],
      "execution_count": null,
      "outputs": []
    },
    {
      "cell_type": "markdown",
      "metadata": {
        "id": "VnEgra-O2El_"
      },
      "source": [
        "參考網路上:https://www.w3resource.com/python-exercises/data-structures-and-algorithms/python-search-and-sorting-exercise-2.php"
      ]
    },
    {
      "cell_type": "code",
      "metadata": {
        "id": "_0rFt3fa13IW",
        "outputId": "a6502009-1e8c-4837-9530-ad8f87d953c1",
        "colab": {
          "base_uri": "https://localhost:8080/",
          "height": 34
        }
      },
      "source": [
        "def Sequential_Search(dlist, item):\n",
        "\n",
        "    pos = 0\n",
        "    found = False\n",
        "    \n",
        "    while pos < len(dlist) and not found:\n",
        "        if dlist[pos] == item:\n",
        "            found = True\n",
        "        else:\n",
        "            pos = pos + 1\n",
        "    \n",
        "    return found, pos\n",
        "\n",
        "print(Sequential_Search([20,31,50,17,16,36,19,8],17))"
      ],
      "execution_count": 27,
      "outputs": [
        {
          "output_type": "stream",
          "text": [
            "(True, 3)\n"
          ],
          "name": "stdout"
        }
      ]
    }
  ]
}