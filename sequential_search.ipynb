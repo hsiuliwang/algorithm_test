{
  "nbformat": 4,
  "nbformat_minor": 0,
  "metadata": {
    "colab": {
      "name": "Untitled4.ipynb",
      "provenance": [],
      "authorship_tag": "ABX9TyMB9EDTnJyKxGVZRUxr/T5K",
      "include_colab_link": true
    },
    "kernelspec": {
      "name": "python3",
      "display_name": "Python 3"
    }
  },
  "cells": [
    {
      "cell_type": "markdown",
      "metadata": {
        "id": "view-in-github",
        "colab_type": "text"
      },
      "source": [
        "<a href=\"https://colab.research.google.com/github/hsiuliwang/algorithm_test/blob/master/sequential_search.ipynb\" target=\"_parent\"><img src=\"https://colab.research.google.com/assets/colab-badge.svg\" alt=\"Open In Colab\"/></a>"
      ]
    },
    {
      "cell_type": "code",
      "metadata": {
        "id": "x03mKm_jxPSU",
        "outputId": "534c0466-5b70-43b5-e1b6-aea3f2eaa718",
        "colab": {
          "base_uri": "https://localhost:8080/",
          "height": 34
        }
      },
      "source": [
        "###方法一\n",
        "\n",
        "data=[20,31,50,17,16,36,19,8]\n",
        "\n",
        "def sequential_search(data,key):\n",
        "  for i in data:\n",
        "    if i == key:\n",
        "      print(\"found\") #找到\n",
        "      break\n",
        "    else:\n",
        "      if i == len(data): #判斷最後一個也不是 用len判斷\n",
        "        print(\"no found\") #沒找到\n",
        "      else:\n",
        "        continue\n",
        "\n",
        "sequential_search(data,30)"
      ],
      "execution_count": 24,
      "outputs": [
        {
          "output_type": "stream",
          "text": [
            "no found\n"
          ],
          "name": "stdout"
        }
      ]
    },
    {
      "cell_type": "code",
      "metadata": {
        "id": "Zff1fUpz1dpd",
        "outputId": "d261b020-bee3-480c-b828-75de5db984be",
        "colab": {
          "base_uri": "https://localhost:8080/",
          "height": 34
        }
      },
      "source": [
        "###方法二\n",
        "\n",
        "data=[20,31,50,17,16,36,19,8]\n",
        "\n",
        "\n",
        "def sequential_search(data,key):\n",
        "  found = False     #設定找到或沒找到\n",
        "  for i in data:\n",
        "    if i == key:\n",
        "      found = True\n",
        "      print(\"found\")\n",
        "      break\n",
        "    \n",
        "  if found == False:  #全部跑完如果還是False就是沒找到\n",
        "        print(\"no found\")\n",
        "\n",
        "\n",
        "sequential_search(data,18)"
      ],
      "execution_count": 29,
      "outputs": [
        {
          "output_type": "stream",
          "text": [
            "no found\n"
          ],
          "name": "stdout"
        }
      ]
    },
    {
      "cell_type": "code",
      "metadata": {
        "id": "_0rFt3fa13IW",
        "outputId": "a6502009-1e8c-4837-9530-ad8f87d953c1",
        "colab": {
          "base_uri": "https://localhost:8080/",
          "height": 34
        }
      },
      "source": [
        "###方法三(參考網路)\n",
        "def Sequential_Search(dlist, item):\n",
        "\n",
        "    pos = 0\n",
        "    found = False  #預設為沒找到\n",
        "    \n",
        "    while pos < len(dlist) and not found: #判斷常數\n",
        "        if dlist[pos] == item:\n",
        "            found = True #找到(如果有找到改為True)\n",
        "        else:\n",
        "            pos = pos + 1 #找到在第幾個(索引_可以知道是第幾個)\n",
        "    \n",
        "    return found, pos #回傳值\n",
        "\n",
        "print(Sequential_Search([20,31,50,17,16,36,19,8],17))"
      ],
      "execution_count": 27,
      "outputs": [
        {
          "output_type": "stream",
          "text": [
            "(True, 3)\n"
          ],
          "name": "stdout"
        }
      ]
    },
    {
      "cell_type": "markdown",
      "metadata": {
        "id": "VnEgra-O2El_"
      },
      "source": [
        "參考網路上:https://www.w3resource.com/python-exercises/data-structures-and-algorithms/python-search-and-sorting-exercise-2.php"
      ]
    }
  ]
}