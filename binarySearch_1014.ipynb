{
  "nbformat": 4,
  "nbformat_minor": 0,
  "metadata": {
    "colab": {
      "name": "Untitled5.ipynb",
      "provenance": [],
      "authorship_tag": "ABX9TyMftjhl1+fdOPkkwuhFqD2U",
      "include_colab_link": true
    },
    "kernelspec": {
      "name": "python3",
      "display_name": "Python 3"
    }
  },
  "cells": [
    {
      "cell_type": "markdown",
      "metadata": {
        "id": "view-in-github",
        "colab_type": "text"
      },
      "source": [
        "<a href=\"https://colab.research.google.com/github/hsiuliwang/algorithm_test/blob/master/binarySearch_1014.ipynb\" target=\"_parent\"><img src=\"https://colab.research.google.com/assets/colab-badge.svg\" alt=\"Open In Colab\"/></a>"
      ]
    },
    {
      "cell_type": "code",
      "metadata": {
        "id": "FPJVEKXE6F1a",
        "outputId": "5dc6f641-4177-4c50-822c-efa524196a86",
        "colab": {
          "base_uri": "https://localhost:8080/",
          "height": 34
        }
      },
      "source": [
        "def binarySearch(arr,l,r,x):\n",
        "  if r >= l:\n",
        "    mid = l + (r-l) // 2\n",
        "\n",
        "    if arr[mid] == x:\n",
        "      return mid\n",
        "    elif arr[mid] > x:\n",
        "      return binarySearch(arr,l,mid-1,x)\n",
        "    else:\n",
        "      return binarySearch(arr,mid+1,r,x)\n",
        "  else:\n",
        "    return -1\n",
        "\n",
        "arr = [5,8,9,15,30]\n",
        "x=9\n",
        "\n",
        "#Function call\n",
        "result =binarySearch(arr,0,len(arr)-1,x)\n",
        "\n",
        "if result != -1:\n",
        "  print(\"元素在索引 %d\" % result)\n",
        "else:\n",
        "  print(\"陣列中找不到該元素\")\n",
        "\n"
      ],
      "execution_count": null,
      "outputs": [
        {
          "output_type": "stream",
          "text": [
            "元素在索引 2\n"
          ],
          "name": "stdout"
        }
      ]
    },
    {
      "cell_type": "markdown",
      "metadata": {
        "id": "ctMuKrRb_nj-"
      },
      "source": [
        "使用者輸入為排序的\n",
        "排序\n"
      ]
    },
    {
      "cell_type": "code",
      "metadata": {
        "id": "t-BRmqtN_Wfy",
        "outputId": "725d4214-3670-4fb0-b184-cfcc98b989c3",
        "colab": {
          "base_uri": "https://localhost:8080/",
          "height": 168
        }
      },
      "source": [
        "def Bubble_Sort(datas):\n",
        "    for i in range(1, len(datas)): # \n",
        "        for j in range(len(datas)-i):   # \n",
        "            if datas[j] > datas[j+1]:   # \n",
        "                datas[j], datas[j+1] = datas[j+1], datas[j]\n",
        "    return datas\n",
        "\n",
        "\n",
        "def binarySearch(arr,l,r,x):\n",
        "  if r >= l:\n",
        "    mid = l + (r-l) // 2\n",
        "\n",
        "    if arr[mid] == x:\n",
        "      return mid\n",
        "    elif arr[mid] > x:\n",
        "      return binarySearch(arr,l,mid-1,x)\n",
        "    else:\n",
        "      return binarySearch(arr,mid+1,r,x)\n",
        "  else:\n",
        "    return -1\n",
        "\n",
        "#arr = [5,8,9,15,30]\n",
        "#x=9\n",
        "#Function call\n",
        "#result =binarySearch(arr,0,len(arr)-1,x)\n",
        "\n",
        "\n",
        "arr = input('請輸入五個數字:')      #手動輸入五個數字文字說明\n",
        "num = [int(n) for n in arr.split()]  #存成一串列(不限五個)\n",
        "print(\"\\n你輸入的數列:\")\n",
        "print(num)\n",
        "\n",
        "if __name__ == '__main__':    \n",
        "    num = Bubble_Sort(num) \n",
        "    print(\"氣泡排序法後的結果:\") \n",
        "    print(num)\n",
        "\n",
        "    key_value=int(input('請輸入key value:'))\n",
        "    #x=9 #key value\n",
        "    result =binarySearch(num,0,len(num)-1,key_value)\n",
        "    print(\"二元搜尋後的結果:\")\n",
        "    \n",
        "\n",
        "if result != -1:\n",
        "  print(\"陣列中找到該元素\")\n",
        "  print(\"元素在索引 %d\" % result)\n",
        "else:\n",
        "  print(\"陣列中找不到該元素\")\n"
      ],
      "execution_count": 8,
      "outputs": [
        {
          "output_type": "stream",
          "text": [
            "請輸入五個數字:2 34 12 3 45 23\n",
            "\n",
            "你輸入的數列:\n",
            "[2, 34, 12, 3, 45, 23]\n",
            "氣泡排序法後的結果:\n",
            "[2, 3, 12, 23, 34, 45]\n",
            "請輸入key value:8\n",
            "二元搜尋後的結果:\n",
            "陣列中找不到該元素\n"
          ],
          "name": "stdout"
        }
      ]
    },
    {
      "cell_type": "markdown",
      "metadata": {
        "id": "1gOeCkRQ8WeO"
      },
      "source": [
        "x改變會有不同 (索引會改變)"
      ]
    }
  ]
}