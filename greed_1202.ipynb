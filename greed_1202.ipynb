{
  "nbformat": 4,
  "nbformat_minor": 0,
  "metadata": {
    "colab": {
      "name": "new.ipynb",
      "provenance": [],
      "authorship_tag": "ABX9TyOW73U7gxqTLQp2yPUEc21C",
      "include_colab_link": true
    },
    "kernelspec": {
      "name": "python3",
      "display_name": "Python 3"
    }
  },
  "cells": [
    {
      "cell_type": "markdown",
      "metadata": {
        "id": "view-in-github",
        "colab_type": "text"
      },
      "source": [
        "<a href=\"https://colab.research.google.com/github/hsiuliwang/algorithm_test/blob/master/greed_1202.ipynb\" target=\"_parent\"><img src=\"https://colab.research.google.com/assets/colab-badge.svg\" alt=\"Open In Colab\"/></a>"
      ]
    },
    {
      "cell_type": "code",
      "metadata": {
        "id": "hIeOZNzSPskU",
        "outputId": "5d2a5a55-7842-4160-8615-ed135b9fb789",
        "colab": {
          "base_uri": "https://localhost:8080/"
        }
      },
      "source": [
        "######1每個都算(每一步驟印出來)\n",
        "\n",
        "###t=面額\n",
        "t =[25,20,5,1]\n",
        "###n=多少錢\n",
        "def change(t,n):\n",
        "\n",
        "  m=[0 for _ in range(len(t))]  ##其中’_’是一個循環標誌\n",
        "\n",
        "  \n",
        "  for i,money in enumerate(t):\n",
        "    if money<41:\n",
        "      m[i] = n//money ##//除法取整數\n",
        "      n=n%money\n",
        "      print(\"step\",i)\n",
        "      print(m,n)\n",
        "    #return m,n,41-money\n",
        "    \n",
        "\n",
        "\n",
        "\n",
        "change(t,41)\n",
        "#print(change(t,41))\n",
        "###每個都算"
      ],
      "execution_count": 39,
      "outputs": [
        {
          "output_type": "stream",
          "text": [
            "step 0\n",
            "[1, 0, 0, 0] 16\n",
            "step 1\n",
            "[1, 0, 0, 0] 16\n",
            "step 2\n",
            "[1, 0, 3, 0] 1\n",
            "step 3\n",
            "[1, 0, 3, 1] 0\n"
          ],
          "name": "stdout"
        }
      ]
    },
    {
      "cell_type": "code",
      "metadata": {
        "id": "4urbTELHRKgy"
      },
      "source": [
        ""
      ],
      "execution_count": null,
      "outputs": []
    },
    {
      "cell_type": "markdown",
      "metadata": {
        "id": "68dUNhbeTPwx"
      },
      "source": [
        ""
      ]
    },
    {
      "cell_type": "code",
      "metadata": {
        "id": "iq10xEgQRkND"
      },
      "source": [
        "#第一題第一小題\n",
        "####1每個都算(每一步驟印出來)\n",
        "####2改成輸入金額\n",
        "\n",
        "###t=面額\n",
        "t =[25,20,5,1]\n",
        "ymoney = int(input('請輸入數字:'))\n",
        "###n=多少錢\n",
        "def change(t,n):\n",
        "\n",
        "  m=[0 for _ in range(len(t))]  ##其中’_’是一個循環標誌\n",
        "  \n",
        "  for i,money in enumerate(t):\n",
        "    if money<ymoney:\n",
        "      m[i] = n//money ##//除法取整數\n",
        "      n=n%money\n",
        "      print(\"step\",i)\n",
        "      print(m,\"剩餘金額\",n)\n",
        "    #return m,n\n",
        "    \n",
        "change(t,ymoney)\n",
        "#print(change(t,41))"
      ],
      "execution_count": null,
      "outputs": []
    },
    {
      "cell_type": "code",
      "metadata": {
        "id": "SpiBUoXfN9yr",
        "outputId": "dcb64db3-c11c-44c8-d2e0-0f7305980a11",
        "colab": {
          "base_uri": "https://localhost:8080/"
        }
      },
      "source": [
        "###\n",
        "#coding=gbk\n",
        "#定義零錢種類\n",
        "moneycount=[100,50,20,10,5,1]\n",
        "def getMax(x):\n",
        "    m=[]\n",
        "    while True:\n",
        "        for i in moneycount:\n",
        "            if i<=x:\n",
        "                x-=i                \n",
        "                m.append(i)\n",
        "                break\n",
        "        if x<1:\n",
        "            break\n",
        "        print(i)\n",
        "    return m\n",
        "a=getMax(298)\n",
        "print(a)"
      ],
      "execution_count": 41,
      "outputs": [
        {
          "output_type": "stream",
          "text": [
            "100\n",
            "100\n",
            "50\n",
            "20\n",
            "20\n",
            "5\n",
            "1\n",
            "1\n",
            "[100, 100, 50, 20, 20, 5, 1, 1, 1]\n"
          ],
          "name": "stdout"
        }
      ]
    },
    {
      "cell_type": "code",
      "metadata": {
        "id": "Xko-h9cvTqBk"
      },
      "source": [
        ""
      ],
      "execution_count": null,
      "outputs": []
    },
    {
      "cell_type": "code",
      "metadata": {
        "id": "3XRz3iIWTUCz"
      },
      "source": [
        "arr = input('請輸入五個數字:')      #手動輸入五個數字文字說明\n",
        "num = [int(n) for n in arr.split()]  #存成一串列(不限五個)\n",
        "print(\"\\n你輸入的數列:\")\n",
        "print(num)"
      ],
      "execution_count": null,
      "outputs": []
    },
    {
      "cell_type": "code",
      "metadata": {
        "id": "-ojeGrCETqcy"
      },
      "source": [
        "###背包問題\n",
        "##貪婪法"
      ],
      "execution_count": null,
      "outputs": []
    }
  ]
}