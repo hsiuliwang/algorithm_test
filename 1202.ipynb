{
  "nbformat": 4,
  "nbformat_minor": 0,
  "metadata": {
    "colab": {
      "name": "new.ipynb",
      "provenance": [],
      "authorship_tag": "ABX9TyMrdT2/7aMjldmtyJMYNEd8",
      "include_colab_link": true
    },
    "kernelspec": {
      "name": "python3",
      "display_name": "Python 3"
    }
  },
  "cells": [
    {
      "cell_type": "markdown",
      "metadata": {
        "id": "view-in-github",
        "colab_type": "text"
      },
      "source": [
        "<a href=\"https://colab.research.google.com/github/hsiuliwang/algorithm_test/blob/master/1202.ipynb\" target=\"_parent\"><img src=\"https://colab.research.google.com/assets/colab-badge.svg\" alt=\"Open In Colab\"/></a>"
      ]
    },
    {
      "cell_type": "code",
      "metadata": {
        "id": "4urbTELHRKgy"
      },
      "source": [
        ""
      ],
      "execution_count": null,
      "outputs": []
    },
    {
      "cell_type": "markdown",
      "metadata": {
        "id": "68dUNhbeTPwx"
      },
      "source": [
        ""
      ]
    },
    {
      "cell_type": "code",
      "metadata": {
        "colab": {
          "base_uri": "https://localhost:8080/"
        },
        "id": "iq10xEgQRkND",
        "outputId": "f5cecc7e-5198-473c-bad2-3f0fccf0175f"
      },
      "source": [
        "#第一題第一小題\n",
        "####1每個都算(每一步驟印出來)\n",
        "####2改成輸入金額\n",
        "\n",
        "###t=面額\n",
        "t =[25,20,5,1]\n",
        "ymoney = int(input('請輸入數字:'))\n",
        "###n=多少錢\n",
        "def change(t,n):\n",
        "\n",
        "  m=[0 for _ in range(len(t))]  ##其中’_’是一個循環標誌\n",
        "  \n",
        "  for i,money in enumerate(t):\n",
        "    if money<ymoney:\n",
        "      m[i] = n//money ##//除法取整數\n",
        "      n=n%money\n",
        "      print(\"step\",i)\n",
        "      print(m,\"剩餘金額\",n)\n",
        "    #return m,n\n",
        "    \n",
        "change(t,ymoney)\n",
        "#print(change(t,41))"
      ],
      "execution_count": 43,
      "outputs": [
        {
          "output_type": "stream",
          "text": [
            "請輸入數字:28\n",
            "step 0\n",
            "[1, 0, 0, 0] 剩餘金額 3\n",
            "step 1\n",
            "[1, 0, 0, 0] 剩餘金額 3\n",
            "step 2\n",
            "[1, 0, 0, 0] 剩餘金額 3\n",
            "step 3\n",
            "[1, 0, 0, 3] 剩餘金額 0\n"
          ],
          "name": "stdout"
        }
      ]
    },
    {
      "cell_type": "code",
      "metadata": {
        "id": "6UUgw_fSVhyP",
        "outputId": "5ef5af4c-b0bd-4fdf-b899-d3c07092eaf2",
        "colab": {
          "base_uri": "https://localhost:8080/"
        }
      },
      "source": [
        "#第一題第二小題 ##動態規劃\n",
        "def getMinCounts(k, values):\n",
        "    memo = [-1] * (k + 1)\n",
        "    memo[0] = 0 # 初始化狀態\n",
        "    for item in range(1, k + 1):\n",
        "       memo[item] = k + 1\n",
        "   \n",
        "    for item in range(1, k + 1):\n",
        "        for coin in values:\n",
        "            if (item - coin < 0):\n",
        "                continue\n",
        "            memo[item] = min(memo[item], memo[item - coin] + 1) # 作出決策\n",
        "\n",
        "    return memo[k]\n",
        "\n",
        "def getMinCountsDPSol():\n",
        "    values = [25,20,5,1] # 硬幣面值\n",
        "    total = 41 # 總值\n",
        "\n",
        "    # 求得最小的硬幣數量\n",
        "    print(\"總值\",total)\n",
        "    return getMinCounts(total, values) # 輸出答案\n",
        "\n",
        "def main():\n",
        "    result = getMinCountsDPSol()\n",
        "    print(result)\n",
        "\n",
        "if __name__ == \"__main__\":\n",
        "    main()\n",
        "    "
      ],
      "execution_count": 52,
      "outputs": [
        {
          "output_type": "stream",
          "text": [
            "總值 41\n",
            "3\n"
          ],
          "name": "stdout"
        }
      ]
    },
    {
      "cell_type": "code",
      "metadata": {
        "id": "70pIrCjHWjRj",
        "outputId": "c8dc87ce-bb36-46bb-9c47-a8aaf8da284c",
        "colab": {
          "base_uri": "https://localhost:8080/"
        }
      },
      "source": [
        "def getMinCountsLoop(k, values):\n",
        "    memo = [-1] * (k + 1)\n",
        "    memo[0] = 0 # 初始化狀態\n",
        "    for item in range(1, k + 1):\n",
        "        minCount = k + 1 # 模擬無窮大\n",
        "        for iter in range(len(values)):\n",
        "            currentValue = values[iter]\n",
        "            # 如果當前面值大於硬幣總額，那麼跳過\n",
        "            if (currentValue > item):\n",
        "                continue\n",
        "\n",
        "            # 使用當前面值，得到剩餘硬幣總額\n",
        "            rest = item - currentValue\n",
        "            restCount = memo[rest]\n",
        "           \n",
        "            # 如果返回-1，說明組合不可信，跳過\n",
        "            if (restCount == -1):\n",
        "                continue\n",
        "\n",
        "            # 保留最小總額\n",
        "            itemCount = 1 + restCount\n",
        "            if (itemCount < minCount):\n",
        "                minCount = itemCount\n",
        "\n",
        "        # 如果是可用組合，記錄結果\n",
        "        if (minCount != k + 1):\n",
        "            memo[item] = minCount\n",
        "\n",
        "    return memo[k]\n",
        "\n",
        "def getMinCountsDPSol():\n",
        "    values = [3, 5] # 硬幣面值\n",
        "    total = 22 # 總值\n",
        "\n",
        "    # 求得最小的硬幣數量\n",
        "    return getMinCountsLoop(total, values) # 輸出答案\n",
        "\n",
        "def main():\n",
        "    result = getMinCountsDPSol()\n",
        "    print(result)\n",
        "\n",
        "if __name__ == \"__main__\":\n",
        "    main()"
      ],
      "execution_count": 53,
      "outputs": [
        {
          "output_type": "stream",
          "text": [
            "6\n"
          ],
          "name": "stdout"
        }
      ]
    },
    {
      "cell_type": "code",
      "metadata": {
        "colab": {
          "base_uri": "https://localhost:8080/"
        },
        "id": "SpiBUoXfN9yr",
        "outputId": "dcb64db3-c11c-44c8-d2e0-0f7305980a11"
      },
      "source": [
        "###\n",
        "#coding=gbk\n",
        "#定義零錢種類\n",
        "moneycount=[100,50,20,10,5,1]\n",
        "def getMax(x):\n",
        "    m=[]\n",
        "    while True:\n",
        "        for i in moneycount:\n",
        "            if i<=x:\n",
        "                x-=i                \n",
        "                m.append(i)\n",
        "                break\n",
        "        if x<1:\n",
        "            break\n",
        "        print(i)\n",
        "    return m\n",
        "a=getMax(298)\n",
        "print(a)"
      ],
      "execution_count": 41,
      "outputs": [
        {
          "output_type": "stream",
          "text": [
            "100\n",
            "100\n",
            "50\n",
            "20\n",
            "20\n",
            "5\n",
            "1\n",
            "1\n",
            "[100, 100, 50, 20, 20, 5, 1, 1, 1]\n"
          ],
          "name": "stdout"
        }
      ]
    },
    {
      "cell_type": "code",
      "metadata": {
        "colab": {
          "base_uri": "https://localhost:8080/"
        },
        "id": "Xko-h9cvTqBk",
        "outputId": "c9bcfcfc-52cc-44b3-8438-340ff6e1f3f5"
      },
      "source": [
        "\n",
        "if __name__ == '__main__':\n",
        "    beg = 50                       #背包50kg\n",
        "    value = 0                      #已经获得的价值\n",
        "    choice = []\n",
        "    while beg > 0:                 #如果背包还有空位，则递归\n",
        "        if beg >= 8:               #选择当前这一步的最优解，既选择B商品\n",
        "            beg = beg - 8\n",
        "            value = value + 13\n",
        "            choice.append(\"B\")\n",
        "        elif beg >= 10:            #要是B商品选择不了，则选择第二单位价值的物品，即A物品\n",
        "            beg = beg - 10\n",
        "            value = value + 15\n",
        "            choice.append(\"A\")\n",
        "        elif beg >= 6:\n",
        "            beg = beg - 6\n",
        "            value = value + 8\n",
        "            choice.append(\"C\")\n",
        "        else:                      #当所有的物品都选择不了，则退出\n",
        "            break\n",
        "    print(\"剩余的背包重量：\",beg)\n",
        "    print(\"获得的总价值：\",value)\n",
        "    print(\"选择的物品的类型及顺序：\",choice)"
      ],
      "execution_count": 45,
      "outputs": [
        {
          "output_type": "stream",
          "text": [
            "剩余的背包重量： 2\n",
            "获得的总价值： 78\n",
            "选择的物品的类型及顺序： ['B', 'B', 'B', 'B', 'B', 'B']\n"
          ],
          "name": "stdout"
        }
      ]
    },
    {
      "cell_type": "code",
      "metadata": {
        "id": "3XRz3iIWTUCz"
      },
      "source": [
        "arr = input('請輸入五個數字:')      #手動輸入五個數字文字說明\n",
        "num = [int(n) for n in arr.split()]  #存成一串列(不限五個)\n",
        "print(\"\\n你輸入的數列:\")\n",
        "print(num)"
      ],
      "execution_count": null,
      "outputs": []
    },
    {
      "cell_type": "code",
      "metadata": {
        "colab": {
          "base_uri": "https://localhost:8080/"
        },
        "id": "-ojeGrCETqcy",
        "outputId": "42d2cfb2-dcf1-4622-b480-dfe83a5b4114"
      },
      "source": [
        "#第二題第一小題\n",
        "###背包問題\n",
        "##貪婪法\n",
        "\n",
        "def Initial():\n",
        "\t'''確定物品重量、價值和背包總重量'''\n",
        "\toption = input('是否選擇舊有資料（Y/N）: ')\n",
        "\tif option == 'Y':\n",
        "\t\tweight = [5, 1, 4, 3, 2]\n",
        "\t\tprice = [17000, 35000, 60000, 9000, 20000]\n",
        "\t\tC = 10\n",
        "\telse:\n",
        "\t\tweight = list(map(int, input('請輸入物品重量，用空格分開：').split( )))\n",
        "\t\tprice = list(map(int, input('請輸入相應的物品價值，用空格分開： ').split( )))\n",
        "\t\tC = int(input('請輸入背包總重量限制： '))\n",
        "\titem = list(zip(weight,price))\n",
        "\tprint('重量，價值：' + item.__str__() + '\\n總重量限制：' + C.__str__())\n",
        "\treturn item, C\n",
        "\n",
        "def Weight(item):\n",
        "\t'''選重量最小的物品'''\n",
        "\tdata = np.array(item)\n",
        "\tidex = np.lexsort([-1*data[:,1], data[:,0]])\n",
        "\treturn idex\n",
        "\n",
        "def Price(item):\n",
        "\t'''選價值最大的物品'''\t\n",
        "\tdata = np.array(item)\n",
        "\tidex = np.lexsort([data[:,0], -1*data[:,1]])\n",
        "\treturn idex\n",
        "\n",
        "\n",
        "def GreedyAlgo(item, C, idex):\n",
        "\t'''貪婪法'''\n",
        "\tnumber = len(item)\n",
        "\tstatus = [0] * number\n",
        "\ttotal_weight = 0\n",
        "\ttotal_value = 0\n",
        "\tfor i in range(number):\n",
        "\t\tif item[idex[i],0] <= C:\n",
        "\t\t\ttotal_weight += item[idex[i],0]\n",
        "\t\t\ttotal_value += item[idex[i],1]\n",
        "\t\t\tstatus[idex[i]] = 1\n",
        "\t\t\tC -= item[idex[i],0]\n",
        "\t\telse:\n",
        "\t\t\tcontinue\n",
        "\treturn total_weight, total_value, status\n",
        "\n",
        "def main():\n",
        "\t'''主題結構'''\n",
        "\titem0, C = Initial()\n",
        "\titem = np.array(item0)\n",
        "\tidex_weight = Weight(item)\n",
        "\tidex_price = Price(item)\n",
        "\t\n",
        "\tresults_weight = GreedyAlgo(item, C, idex_weight)\n",
        "\tprint(\"results_weight\",\"選重量最小的物品\",results_weight)\n",
        "\tresults_Price = GreedyAlgo(item, C, idex_price)\n",
        "\tprint(\"results_Price\",\"選價值最大的物品\",results_Price,\"怎麼裝才能帶走最有價值的商品\")\n",
        "\t\n",
        "import numpy as np\n",
        "main()"
      ],
      "execution_count": 71,
      "outputs": [
        {
          "output_type": "stream",
          "text": [
            "是否選擇舊有資料（Y/N）: Y\n",
            "重量，價值：[(5, 17000), (1, 35000), (4, 60000), (3, 9000), (2, 20000)]\n",
            "總重量限制：10\n",
            "results_weight 選重量最小的物品 (10, 124000, [0, 1, 1, 1, 1])\n",
            "results_Price 選價值最大的物品 (10, 124000, [0, 1, 1, 1, 1]) 怎麼裝才能帶走最有價值的商品\n"
          ],
          "name": "stdout"
        }
      ]
    },
    {
      "cell_type": "markdown",
      "metadata": {
        "id": "sCXELWxebKbE"
      },
      "source": [
        "https://blog.csdn.net/Xavier_8031/article/details/103442708"
      ]
    },
    {
      "cell_type": "code",
      "metadata": {
        "id": "w7vmIk6QbRd1",
        "outputId": "bfd12899-7abc-41fb-c9cf-105ba9d40211",
        "colab": {
          "base_uri": "https://localhost:8080/"
        }
      },
      "source": [
        "#第二題第二小題\n",
        "def bag(n,c,w,v):\n",
        "\tres=[[0 for j in range(c+1)] for i in range(n+1)]\n",
        "\tfor j in range(c+1):\n",
        "\t\tres[0][j]=0\n",
        "\tfor i in range(1,n+1):\n",
        "\t\tfor j in range(1,c+1):\n",
        "\t\t\tres[i][j]=res[i-1][j]\n",
        "\t\t\tif j>=w[i-1] and res[i][j]<res[i-1][j-w[i-1]]+v[i-1]:\n",
        "\t\t\t\tres[i][j]=res[i-1][j-w[i-1]]+v[i-1]\n",
        "\treturn res\n",
        "\n",
        "def show(n,c,w,res):\n",
        "\tprint('最大價值為:',res[n][c])\n",
        "\tx=[False for i in range(n)]\n",
        "\tj=c\n",
        "\tfor i in range(1,n+1):\n",
        "\t\tif res[i][j]>res[i-1][j]:\n",
        "\t\t\tx[i-1]=True\n",
        "\t\t\tj-=w[i-1]\n",
        "\tprint('選擇的物品為:')\n",
        "\tfor i in range(n):\n",
        "\t\tif x[i]:\n",
        "\t\t\tprint('第',i+1,'個,',end='')\n",
        "\tprint('')\n",
        "\n",
        "if __name__=='__main__':\n",
        "\tn=5\n",
        "\tc=10\n",
        "\tw=[5, 1, 4, 3, 2]\n",
        "\tv=[17000, 35000, 60000, 9000, 20000]\n",
        "\tres=bag(n,c,w,v)\n",
        "\tshow(n,c,w,res)"
      ],
      "execution_count": 77,
      "outputs": [
        {
          "output_type": "stream",
          "text": [
            "最大價值為: 124000\n",
            "選擇的物品為:\n",
            "第 1 個,第 2 個,第 3 個,\n"
          ],
          "name": "stdout"
        }
      ]
    },
    {
      "cell_type": "code",
      "metadata": {
        "id": "6aBJQRRzeRxa"
      },
      "source": [
        ""
      ],
      "execution_count": null,
      "outputs": []
    },
    {
      "cell_type": "code",
      "metadata": {
        "id": "QmTPU091eR6Y"
      },
      "source": [
        ""
      ],
      "execution_count": null,
      "outputs": []
    },
    {
      "cell_type": "code",
      "metadata": {
        "id": "UrTCj-pjeSBJ",
        "outputId": "3cc50544-d8f2-49c7-81e8-1828fe6d3dc6",
        "colab": {
          "base_uri": "https://localhost:8080/"
        }
      },
      "source": [
        "#第二題第一小題\n",
        "###背包問題\n",
        "##貪婪法\n",
        "\n",
        "def Initial():\n",
        "\t'''確定物品重量、價值和背包總重量'''\n",
        "\toption = input('是否選擇舊有資料（Y/N）: ')\n",
        "\tif option == 'Y':\n",
        "\t\tweight = [5, 1, 4, 3, 2]\n",
        "\t\tprice = [17000, 35000, 60000, 9000, 20000]\n",
        "\t\tC = 10\n",
        "\telse:\n",
        "\t\tweight = list(map(int, input('請輸入物品重量，用空格分開：').split( )))\n",
        "\t\tprice = list(map(int, input('請輸入相應的物品價值，用空格分開： ').split( )))\n",
        "\t\tC = int(input('請輸入背包總重量限制： '))\n",
        "\titem = list(zip(weight,price))\n",
        "\tprint('重量，價值：' + item.__str__() + '\\n總重量限制：' + C.__str__())\n",
        "\treturn item, C\n",
        "\n",
        "def Weight(item):\n",
        "\t'''選重量最小的物品'''\n",
        "\tdata = np.array(item)\n",
        "\tidex = np.lexsort([-1*data[:,1], data[:,0]])\n",
        "\treturn idex\n",
        "\n",
        "def Price(item):\n",
        "\t'''選價值最大的物品'''\t\n",
        "\tdata = np.array(item)\n",
        "\tidex = np.lexsort([data[:,0], -1*data[:,1]])\n",
        "\treturn idex\n",
        "\n",
        "def Density(item):\n",
        "\t'''選價值密度最大的物品'''\n",
        "\tnumber = len(item)\n",
        "\tdata = np.array(item)\n",
        "\tdata_list = [0] * number\n",
        "\tfor i in range(number):\n",
        "\t\tdata_list[i] = (data[i,1])/(data[i,0])\n",
        "\tdata_set = np.array(data_list)\n",
        "\tidex = np.argsort(-1*data_set)\n",
        "\treturn idex\n",
        "def Compare(total_value1, total_value2, total_value3):\n",
        "\t'''比較三種結果'''\n",
        "\tvalues = zip(total_value1, total_value2, total_value3)\n",
        "\tdata = np.array([total_value1[1], total_value2[1], total_value3[1]])\n",
        "\tidex = np.argsort(data)\n",
        "\tvalue = list(zip(*values))\n",
        "\tresults = list(value[idex[2]])\n",
        "\treturn results\n",
        "\n",
        "def GreedyAlgo(item, C, idex):\n",
        "\t'''貪婪法'''\n",
        "\tnumber = len(item)\n",
        "\tstatus = [0] * number\n",
        "\ttotal_weight = 0\n",
        "\ttotal_value = 0\n",
        "\tfor i in range(number): ####\n",
        "\t\tif item[idex[i],0] <= C:\n",
        "\t\t\ttotal_weight += item[idex[i],0]\n",
        "\t\t\ttotal_value += item[idex[i],1]\n",
        "\t\t\tstatus[idex[i]] = 1\n",
        "\t\t\tC -= item[idex[i],0]\n",
        "\t\telse:\n",
        "\t\t\tcontinue\n",
        "\treturn total_weight, total_value, status\n",
        "\n",
        "def main():\n",
        "\t'''主題結構'''\n",
        "\titem0, C = Initial()\n",
        "\titem = np.array(item0)\n",
        "\tidex_weight = Weight(item)\n",
        "\tidex_price = Price(item)\n",
        "\tidex_Density = Density(item)\n",
        "\tresults_weight = GreedyAlgo(item, C, idex_weight)\n",
        "\tprint(\"results_weight\",results_weight)\n",
        "\tresults_Price = GreedyAlgo(item, C, idex_price)\n",
        "\tprint(\"results_Price\",\"怎麼裝才能帶走最有價值的商品\",results_Price)\n",
        "\tresults_Density = GreedyAlgo(item, C, idex_Density)\n",
        "\tprint(\"results_Density\",results_Density)\n",
        "\tresults = Compare(results_weight, results_Price, results_Density)\n",
        "\tprint(results)\n",
        "import numpy as np\n",
        "main()"
      ],
      "execution_count": 75,
      "outputs": [
        {
          "output_type": "stream",
          "text": [
            "是否選擇舊有資料（Y/N）: Y\n",
            "重量，價值：[(5, 17000), (1, 35000), (4, 60000), (3, 9000), (2, 20000)]\n",
            "總重量限制：10\n",
            "results_weight (10, 124000, [0, 1, 1, 1, 1])\n",
            "results_Price 怎麼裝才能帶走最有價值的商品 (10, 124000, [0, 1, 1, 1, 1])\n",
            "results_Density (10, 124000, [0, 1, 1, 1, 1])\n",
            "[10, 124000, [0, 1, 1, 1, 1]]\n"
          ],
          "name": "stdout"
        }
      ]
    }
  ]
}