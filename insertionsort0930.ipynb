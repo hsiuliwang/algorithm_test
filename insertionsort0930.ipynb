{
  "nbformat": 4,
  "nbformat_minor": 0,
  "metadata": {
    "colab": {
      "name": "insertionsort.ipynb",
      "provenance": [],
      "collapsed_sections": [],
      "include_colab_link": true
    },
    "kernelspec": {
      "name": "python3",
      "display_name": "Python 3"
    }
  },
  "cells": [
    {
      "cell_type": "markdown",
      "metadata": {
        "id": "view-in-github",
        "colab_type": "text"
      },
      "source": [
        "<a href=\"https://colab.research.google.com/github/hsiuliwang/algorithm_test/blob/master/insertionsort0930.ipynb\" target=\"_parent\"><img src=\"https://colab.research.google.com/assets/colab-badge.svg\" alt=\"Open In Colab\"/></a>"
      ]
    },
    {
      "cell_type": "markdown",
      "metadata": {
        "id": "j95w6SLwOC0z"
      },
      "source": [
        "Insertion sort (插入排序)"
      ]
    },
    {
      "cell_type": "code",
      "metadata": {
        "id": "BxBaYEwzNj_v",
        "outputId": "ad8f5d95-58da-4071-8c92-2502edf6c4be",
        "colab": {
          "base_uri": "https://localhost:8080/",
          "height": 302
        }
      },
      "source": [
        "\n",
        "def Insertion_Sort(datas):\n",
        "    for i in range(1, len(datas)):    # n\n",
        "        for j in range(i):       # n*n\n",
        "            current = datas[i]    # n^2\n",
        "            if current < datas[j]:   # n^2\n",
        "                for k in range(i,j): # n^2 *n  \n",
        "                  print(datas)\n",
        "    return datas\n",
        "\n",
        "\n",
        "def insertionSort(arr):\n",
        "    for i in range(len(arr)):\n",
        "        preIndex = i-1\n",
        "        current = arr[i]\n",
        "        while preIndex >= 0 and arr[preIndex] > current:\n",
        "            arr[preIndex+1] = arr[preIndex]\n",
        "            preIndex-=1\n",
        "        arr[preIndex+1] = current\n",
        "        print(arr)\n",
        "    return arr\n",
        "\n",
        "if __name__ == '__main__':\n",
        "    import random\n",
        "    a = list(range(16))\n",
        "    random.shuffle(a)\n",
        "    b = a.copy()\n",
        "\n",
        "    arr = insertionSort(a)\n",
        "    print('---'*18)\n",
        "    Insertion_Sort(b)"
      ],
      "execution_count": null,
      "outputs": [
        {
          "output_type": "stream",
          "text": [
            "[2, 1, 10, 14, 11, 3, 6, 8, 9, 13, 4, 5, 0, 15, 12, 7]\n",
            "[1, 2, 10, 14, 11, 3, 6, 8, 9, 13, 4, 5, 0, 15, 12, 7]\n",
            "[1, 2, 10, 14, 11, 3, 6, 8, 9, 13, 4, 5, 0, 15, 12, 7]\n",
            "[1, 2, 10, 14, 11, 3, 6, 8, 9, 13, 4, 5, 0, 15, 12, 7]\n",
            "[1, 2, 10, 11, 14, 3, 6, 8, 9, 13, 4, 5, 0, 15, 12, 7]\n",
            "[1, 2, 3, 10, 11, 14, 6, 8, 9, 13, 4, 5, 0, 15, 12, 7]\n",
            "[1, 2, 3, 6, 10, 11, 14, 8, 9, 13, 4, 5, 0, 15, 12, 7]\n",
            "[1, 2, 3, 6, 8, 10, 11, 14, 9, 13, 4, 5, 0, 15, 12, 7]\n",
            "[1, 2, 3, 6, 8, 9, 10, 11, 14, 13, 4, 5, 0, 15, 12, 7]\n",
            "[1, 2, 3, 6, 8, 9, 10, 11, 13, 14, 4, 5, 0, 15, 12, 7]\n",
            "[1, 2, 3, 4, 6, 8, 9, 10, 11, 13, 14, 5, 0, 15, 12, 7]\n",
            "[1, 2, 3, 4, 5, 6, 8, 9, 10, 11, 13, 14, 0, 15, 12, 7]\n",
            "[0, 1, 2, 3, 4, 5, 6, 8, 9, 10, 11, 13, 14, 15, 12, 7]\n",
            "[0, 1, 2, 3, 4, 5, 6, 8, 9, 10, 11, 13, 14, 15, 12, 7]\n",
            "[0, 1, 2, 3, 4, 5, 6, 8, 9, 10, 11, 12, 13, 14, 15, 7]\n",
            "[0, 1, 2, 3, 4, 5, 6, 7, 8, 9, 10, 11, 12, 13, 14, 15]\n",
            "------------------------------------------------------\n"
          ],
          "name": "stdout"
        }
      ]
    }
  ]
}