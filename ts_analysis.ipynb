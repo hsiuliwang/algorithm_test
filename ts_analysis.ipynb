{
  "nbformat": 4,
  "nbformat_minor": 0,
  "metadata": {
    "colab": {
      "name": "ts_analysis.ipynb",
      "provenance": [],
      "collapsed_sections": [],
      "authorship_tag": "ABX9TyMOTmyXR3aZLzfpBp2bWULN",
      "include_colab_link": true
    },
    "kernelspec": {
      "name": "python3",
      "display_name": "Python 3"
    }
  },
  "cells": [
    {
      "cell_type": "markdown",
      "metadata": {
        "id": "view-in-github",
        "colab_type": "text"
      },
      "source": [
        "<a href=\"https://colab.research.google.com/github/hsiuliwang/algorithm_test/blob/master/ts_analysis.ipynb\" target=\"_parent\"><img src=\"https://colab.research.google.com/assets/colab-badge.svg\" alt=\"Open In Colab\"/></a>"
      ]
    },
    {
      "cell_type": "code",
      "metadata": {
        "id": "_LNFDs3A55fc"
      },
      "source": [
        ""
      ],
      "execution_count": null,
      "outputs": []
    },
    {
      "cell_type": "markdown",
      "metadata": {
        "id": "7i63TTVp5TBz"
      },
      "source": [
        "時間與空間複雜度 （Time and Space Complexity）\n",
        "例如：如何判斷某年是不是閏年？\n",
        "\n",
        "• ⽅法⼀\n",
        "寫⼀個演算法，每給⼀個年份，就可以通過該演算法計算得到是否閏\n",
        "年的結果\n",
        "\n",
        "• ⽅法⼆\n",
        "先建立⼀個所有年份的陣列，然後把所有的年份按下標的數字對應；\n",
        "如果是閏年，則此陣列元素的值是1，如果不是元素的值則為0。\n",
        "這樣，所謂的判斷某⼀年是否為閏年就變成了查詢這個陣列某⼀個元\n",
        "素的值的問題"
      ]
    },
    {
      "cell_type": "markdown",
      "metadata": {
        "id": "LSQ9mvma5Voc"
      },
      "source": [
        "目前使用的格里曆閏年規則如下：\n",
        "\n",
        "西元年分除以4可整除但除以100不可整除，為閏年。\n",
        "\n",
        "西元年分除以4不可整除，為平年。\n",
        "\n",
        "西元年分除以100可整除但除以400不可整除，為平年。\n",
        "\n",
        "西元年分除以400可整除，為閏年。"
      ]
    },
    {
      "cell_type": "code",
      "metadata": {
        "id": "Z0LhuOqC5Tuk",
        "outputId": "ffced4f9-b5b1-4090-f5de-f3826a9aa69d",
        "colab": {
          "base_uri": "https://localhost:8080/"
        }
      },
      "source": [
        "###方法一 演算法輸入，透過計算判斷結果  為時間換取空間(需要時間計算判斷年份)\n",
        "year = int(input(\"輸入一个年份: \"))\n",
        "if (year % 4) == 0:\n",
        "   if (year % 100) == 0:\n",
        "       if (year % 400) == 0:\n",
        "           print(\"{0} 是閏年\".format(year))   # 西元年分除以400可整除\n",
        "       else:\n",
        "           print(\"{0} 不是閏年\".format(year))\n",
        "   else:\n",
        "       print(\"{0} 是閏年\".format(year))       # 除以4可整除但除以100不可整除\n",
        "else:\n",
        "   print(\"{0} 不是閏年\".format(year))"
      ],
      "execution_count": 7,
      "outputs": [
        {
          "output_type": "stream",
          "text": [
            "輸入一个年份: 2038\n",
            "2038 不是閏年\n"
          ],
          "name": "stdout"
        }
      ]
    },
    {
      "cell_type": "code",
      "metadata": {
        "id": "dLThRwX153lr",
        "outputId": "09f5cd32-f2e3-4452-e6ac-c78f6b882984",
        "colab": {
          "base_uri": "https://localhost:8080/"
        }
      },
      "source": [
        "###方法二 建立陣列閏年陣列，輸入年份判斷是否為閏年 為空間換取時間(需儲存閏年的值)\n",
        "yearlist = [2000,2004,2008,2012,2016,2020,2024,2028,2032,2040]\n",
        "year = int(input(\"輸入一个年份(2000-2040): \"))\n",
        "\n",
        "if year in yearlist:\n",
        "  print(\"{0} 是閏年\".format(year))\n",
        "else:\n",
        "  print(\"{0} 不是閏年\".format(year))"
      ],
      "execution_count": 19,
      "outputs": [
        {
          "output_type": "stream",
          "text": [
            "輸入一个年份(2000-2040): 2023\n",
            "2023 不是閏年\n"
          ],
          "name": "stdout"
        }
      ]
    }
  ]
}