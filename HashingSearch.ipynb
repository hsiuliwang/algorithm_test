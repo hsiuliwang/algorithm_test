{
  "nbformat": 4,
  "nbformat_minor": 0,
  "metadata": {
    "colab": {
      "name": "HashingSearch.ipynb",
      "provenance": [],
      "authorship_tag": "ABX9TyO2SWraKS2Ghuz3kQGmvRqH",
      "include_colab_link": true
    },
    "kernelspec": {
      "name": "python3",
      "display_name": "Python 3"
    }
  },
  "cells": [
    {
      "cell_type": "markdown",
      "metadata": {
        "id": "view-in-github",
        "colab_type": "text"
      },
      "source": [
        "<a href=\"https://colab.research.google.com/github/hsiuliwang/algorithm_test/blob/master/HashingSearch.ipynb\" target=\"_parent\"><img src=\"https://colab.research.google.com/assets/colab-badge.svg\" alt=\"Open In Colab\"/></a>"
      ]
    },
    {
      "cell_type": "markdown",
      "metadata": {
        "id": "X3h9P428B_-j"
      },
      "source": [
        "1可執行程式\n",
        "2改成平方法\n",
        "3再雜奏法(除法)"
      ]
    },
    {
      "cell_type": "code",
      "metadata": {
        "id": "5opoCwjfEC2I",
        "outputId": "2e206ddd-966a-4a93-ba84-e05d449880fe",
        "colab": {
          "base_uri": "https://localhost:8080/",
          "height": 218
        }
      },
      "source": [
        "#####1原始檔案(線性探測)\n",
        "import random\n",
        "\n",
        "INDEXBOX=10  #湊法表最大元素\n",
        "MAXNUM=7   #最大資料個數\n",
        "\n",
        "def print_data(data,max_number):   #列印陣列副程式\n",
        "  print('\\t',end='')\n",
        "  for i in range(max_number):\n",
        "    print('[%2d]' %data[i],end='')\n",
        "  print()\n",
        "\n",
        "\n",
        "####線性探測法 ( linear probing ) \n",
        "def create_table(num,index):   #列印雜湊表副程式\n",
        "  tmp=num%INDEXBOX         #雜湊函數=資料%INDEXBOX\n",
        "  while True:\n",
        "    if index[tmp]==-1:    #如果資料對應的位置是空的\n",
        "      index[tmp]=num     #則直接存入資料\n",
        "      break\n",
        "    else:\n",
        "      tmp=(tmp+1)%INDEXBOX   #否則往後找位置存放\n",
        "\n",
        "\n",
        "#Main\n",
        "index =[None]*INDEXBOX\n",
        "data=[None]*MAXNUM\n",
        "\n",
        "print('原始陣列值:')\n",
        "for i in range(MAXNUM):\n",
        "  data[i]=random.randint(1,20)\n",
        "for i in range(INDEXBOX):\n",
        "  index[i]=-1\n",
        "print_data(data,MAXNUM)\n",
        "\n",
        "print('雜湊表內容:')\n",
        "for i in range(MAXNUM):\n",
        "  create_table(data[i],index)\n",
        "  print(' %2d =>' %data[i],end='')\n",
        "  print_data(index,INDEXBOX)\n",
        "\n",
        "print('完成雜湊表:')\n",
        "print_data(index,INDEXBOX)\n",
        "\n",
        "\n"
      ],
      "execution_count": 27,
      "outputs": [
        {
          "output_type": "stream",
          "text": [
            "原始陣列值:\n",
            "\t[ 6][18][11][20][ 4][20][ 1]\n",
            "雜湊表內容:\n",
            "  6 =>\t[-1][-1][-1][-1][-1][-1][ 6][-1][-1][-1]\n",
            " 18 =>\t[-1][-1][-1][-1][-1][-1][ 6][-1][18][-1]\n",
            " 11 =>\t[-1][11][-1][-1][-1][-1][ 6][-1][18][-1]\n",
            " 20 =>\t[20][11][-1][-1][-1][-1][ 6][-1][18][-1]\n",
            "  4 =>\t[20][11][-1][-1][ 4][-1][ 6][-1][18][-1]\n",
            " 20 =>\t[20][11][20][-1][ 4][-1][ 6][-1][18][-1]\n",
            "  1 =>\t[20][11][20][ 1][ 4][-1][ 6][-1][18][-1]\n",
            "完成雜湊表:\n",
            "\t[20][11][20][ 1][ 4][-1][ 6][-1][18][-1]\n"
          ],
          "name": "stdout"
        }
      ]
    },
    {
      "cell_type": "code",
      "metadata": {
        "id": "yApmFBVjbR_a",
        "outputId": "a8de361d-cfe8-4f32-f4ca-326017c9ecb6",
        "colab": {
          "base_uri": "https://localhost:8080/",
          "height": 218
        }
      },
      "source": [
        "###2改成平方法\n",
        "import random\n",
        "\n",
        "INDEXBOX=10  #湊法表最大元素\n",
        "MAXNUM=7   #最大資料個數\n",
        "\n",
        "def print_data(data,max_number):   #列印陣列副程式\n",
        "  print('\\t',end='')\n",
        "  for i in range(max_number):\n",
        "    print('[%2d]' %data[i],end='')\n",
        "  print()\n",
        "\n",
        "####平⽅探測 ( quadratic probing ) \n",
        "def create_table_quadratic(num,index):\n",
        "  tmp=num%INDEXBOX\n",
        "  while True:\n",
        "\n",
        "    if index[tmp]==-1:\n",
        "      index[tmp]=num\n",
        "      break\n",
        "    else:\n",
        "      \n",
        "      #tmp=(tmp+(i**2))%INDEXBOX\n",
        "      tmp1=tmp\n",
        "      for i in range(1,MAXNUM):\n",
        "         \n",
        "        if index[tmp]!=-1:          \n",
        "          tmp=(tmp1+(i**2))%INDEXBOX\n",
        "          continue\n",
        "        else:\n",
        "          break\n",
        "        \n",
        "#Main\n",
        "index =[None]*INDEXBOX\n",
        "data=[None]*MAXNUM\n",
        "\n",
        "print('原始陣列值:')\n",
        "for i in range(MAXNUM):\n",
        "  data[i]=random.randint(1,20)\n",
        "for i in range(INDEXBOX):\n",
        "  index[i]=-1\n",
        "print_data(data,MAXNUM)\n",
        "\n",
        "print('平⽅探測雜湊表內容:')\n",
        "for i in range(MAXNUM):\n",
        "  create_table_quadratic(data[i],index)\n",
        "  print(' %2d =>' %data[i],end='')\n",
        "  print_data(index,INDEXBOX)\n",
        "\n",
        "print('完成平⽅探測雜湊表:')\n",
        "print_data(index,INDEXBOX)\n",
        "\n"
      ],
      "execution_count": 28,
      "outputs": [
        {
          "output_type": "stream",
          "text": [
            "原始陣列值:\n",
            "\t[ 7][12][ 9][16][10][14][16]\n",
            "平⽅探測雜湊表內容:\n",
            "  7 =>\t[-1][-1][-1][-1][-1][-1][-1][ 7][-1][-1]\n",
            " 12 =>\t[-1][-1][12][-1][-1][-1][-1][ 7][-1][-1]\n",
            "  9 =>\t[-1][-1][12][-1][-1][-1][-1][ 7][-1][ 9]\n",
            " 16 =>\t[-1][-1][12][-1][-1][-1][16][ 7][-1][ 9]\n",
            " 10 =>\t[10][-1][12][-1][-1][-1][16][ 7][-1][ 9]\n",
            " 14 =>\t[10][-1][12][-1][14][-1][16][ 7][-1][ 9]\n",
            " 16 =>\t[10][-1][12][-1][14][16][16][ 7][-1][ 9]\n",
            "完成平⽅探測雜湊表:\n",
            "\t[10][-1][12][-1][14][16][16][ 7][-1][ 9]\n"
          ],
          "name": "stdout"
        }
      ]
    },
    {
      "cell_type": "code",
      "metadata": {
        "id": "UG-OED5HpKrK",
        "outputId": "fd56084e-22a2-4eb1-aef2-30053166a842",
        "colab": {
          "base_uri": "https://localhost:8080/",
          "height": 218
        }
      },
      "source": [
        "####3改成再雜湊\n",
        "import random\n",
        "\n",
        "INDEXBOX=10  #湊法表最大元素\n",
        "MAXNUM=7   #最大資料個數\n",
        "\n",
        "def print_data(data,max_number):   #列印陣列副程式\n",
        "  print('\\t',end='')\n",
        "  for i in range(max_number):\n",
        "    print('[%2d]' %data[i],end='')\n",
        "  print()\n",
        "\n",
        "####再雜湊 ( rehashing ) \n",
        "def create_table_rehashing(num,index):\n",
        "  tmp=num%INDEXBOX\n",
        "  while True:\n",
        "    if index[tmp]==-1:\n",
        "      index[tmp]=num\n",
        "      break\n",
        "    else:\n",
        "      #tmp=(tmp+(2*i))%INDEXBOX\n",
        "      tmp1=tmp\n",
        "      for i in range(1,MAXNUM):\n",
        "         \n",
        "        if index[tmp]!=-1:          \n",
        "          tmp=(tmp1+(2*i))%INDEXBOX\n",
        "          continue\n",
        "        else:\n",
        "          break\n",
        "        \n",
        "#Main\n",
        "index =[None]*INDEXBOX\n",
        "data=[None]*MAXNUM\n",
        "\n",
        "print('原始陣列值:')\n",
        "for i in range(MAXNUM):\n",
        "  data[i]=random.randint(1,20)\n",
        "for i in range(INDEXBOX):\n",
        "  index[i]=-1\n",
        "print_data(data,MAXNUM)\n",
        "\n",
        "print('再雜湊_雜湊表內容:')\n",
        "for i in range(MAXNUM):\n",
        "  create_table_rehashing(data[i],index)\n",
        "  print(' %2d =>' %data[i],end='')\n",
        "  print_data(index,INDEXBOX)\n",
        "\n",
        "print('再雜湊_探測雜湊表:')\n",
        "print_data(index,INDEXBOX)"
      ],
      "execution_count": 29,
      "outputs": [
        {
          "output_type": "stream",
          "text": [
            "原始陣列值:\n",
            "\t[14][17][ 4][ 3][ 7][15][19]\n",
            "再雜湊_雜湊表內容:\n",
            " 14 =>\t[-1][-1][-1][-1][14][-1][-1][-1][-1][-1]\n",
            " 17 =>\t[-1][-1][-1][-1][14][-1][-1][17][-1][-1]\n",
            "  4 =>\t[-1][-1][-1][-1][14][-1][ 4][17][-1][-1]\n",
            "  3 =>\t[-1][-1][-1][ 3][14][-1][ 4][17][-1][-1]\n",
            "  7 =>\t[-1][-1][-1][ 3][14][-1][ 4][17][-1][ 7]\n",
            " 15 =>\t[-1][-1][-1][ 3][14][15][ 4][17][-1][ 7]\n",
            " 19 =>\t[-1][19][-1][ 3][14][15][ 4][17][-1][ 7]\n",
            "再雜湊_探測雜湊表:\n",
            "\t[-1][19][-1][ 3][14][15][ 4][17][-1][ 7]\n"
          ],
          "name": "stdout"
        }
      ]
    },
    {
      "cell_type": "code",
      "metadata": {
        "id": "PY4VQDfPo_TW"
      },
      "source": [
        "#arr = input('請輸入五個數字:')      #手動輸入五個數字文字說明\n",
        "#num = [int(n) for n in arr.split()]  #存成一串列(不限五個)"
      ],
      "execution_count": null,
      "outputs": []
    },
    {
      "cell_type": "code",
      "metadata": {
        "id": "Jgu5js5DrgIq"
      },
      "source": [
        "###原始碼\n",
        "import random\n",
        "\n",
        "INDEXBOX=10\n",
        "MAXNUM=7\n",
        "\n",
        "def print_data(data,max_number):\n",
        "  print('\\t',end='')\n",
        "  for i in range(max_number):\n",
        "    print('[%2d]' %data[i],end='')\n",
        "  print()\n",
        "\n",
        "def create_table(num,index):\n",
        "  tmp=num%INDEXBOX\n",
        "  while True:\n",
        "    if index[tmp]==-1:\n",
        "      index[tmp]=num\n",
        "      break\n",
        "    else:\n",
        "      tmp=(tmp+1)%INDEXBOX\n",
        "\n",
        "\n",
        "\n",
        "#Main\n",
        "index =[None]*INDEXBOX\n",
        "data=[None]*MAXNUM\n",
        "\n",
        "print('原始陣列值:')\n",
        "for i in range(MAXNUM):\n",
        "  data[i]=random.randint(1,20)\n",
        "for i in range(INDEXBOX):\n",
        "  index[i]=-1\n",
        "print_data(data,MAXNUM)\n",
        "\n",
        "print('雜湊表內容:')\n",
        "print('0到9')\n",
        "for i in range(MAXNUM):\n",
        "  create_table(data[i],index)\n",
        "  \n",
        "  print(' %2d =>' %data[i],end='')\n",
        "  print_data(index,INDEXBOX)\n",
        "\n",
        "print('完成雜湊表:')\n",
        "print_data(index,INDEXBOX)"
      ],
      "execution_count": null,
      "outputs": []
    }
  ]
}