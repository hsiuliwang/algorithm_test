{
  "nbformat": 4,
  "nbformat_minor": 0,
  "metadata": {
    "colab": {
      "name": "new.ipynb",
      "provenance": [],
      "authorship_tag": "ABX9TyNw9zxLXs5Rl1EHYwW1E43+",
      "include_colab_link": true
    },
    "kernelspec": {
      "name": "python3",
      "display_name": "Python 3"
    }
  },
  "cells": [
    {
      "cell_type": "markdown",
      "metadata": {
        "id": "view-in-github",
        "colab_type": "text"
      },
      "source": [
        "<a href=\"https://colab.research.google.com/github/hsiuliwang/algorithm_test/blob/master/1118%E6%9C%9F%E4%B8%AD%E8%80%83.ipynb\" target=\"_parent\"><img src=\"https://colab.research.google.com/assets/colab-badge.svg\" alt=\"Open In Colab\"/></a>"
      ]
    },
    {
      "cell_type": "code",
      "metadata": {
        "id": "f9RZ3l-JLm48"
      },
      "source": [
        ""
      ],
      "execution_count": 2,
      "outputs": []
    },
    {
      "cell_type": "markdown",
      "metadata": {
        "id": "6X3-Dl_Vj_AZ"
      },
      "source": [
        "檔名：1118期中考\n",
        "⽤Python實作 “選擇排序法”、\"插入排序法”\n",
        "• 隨機產⽣8個數字，分別使⽤兩種⽅法將數字做排序\n",
        "• 選擇(⼤到⼩)、插入(⼩到⼤)\n",
        "• 需解釋演算法設計(註解)"
      ]
    },
    {
      "cell_type": "code",
      "metadata": {
        "colab": {
          "base_uri": "https://localhost:8080/"
        },
        "id": "xOhqdf9qtWVy",
        "outputId": "cfa84568-8e71-42eb-c971-cd85505f9301"
      },
      "source": [
        "import random\n",
        "\n",
        "# 首先亂數產出一組List(隨機產⽣8個數字)\n",
        "sampleList = []\n",
        "s = 0\n",
        "while s < 8: #8個\n",
        "  tempRandNum = random.randint(0,100) #區間0到100\n",
        "  sampleList.append(tempRandNum) #加在list最後\n",
        "  s = s + 1 \n",
        "\n",
        "# 印出原始List\n",
        "print(\"隨機產⽣8個數字\")\n",
        "print(sampleList)\n",
        "\n",
        "def Selection_Sort(datas): #選擇排序法(Selection Sort)\n",
        "  for i in range(len(datas)-1):     #總共執行步驟需要總個數減一次(共8個數，掃描7次才完成排序)                          \n",
        "    max = i               #設定目前的值(第一次選從第一個數開始,第二次從第二個數開始，以此類推)       \n",
        "    for j in range(i+1, len(datas)):    #執行數列尋找從i+1到最後     \n",
        "        if datas[j] > datas[max]:    #找到此數列中，不包含前面的最大值            \n",
        "            max = j          #設定max為第j個(不包含前面的最大值)                 \n",
        "\n",
        "    datas[i], datas[max] = datas[max], datas[i]   #資料交換(將目前的值與找到的最大值交換)              \n",
        "    print(\"step\",i+1) #第幾步\n",
        "    print(datas)   #列印出數列                             \n",
        "    print('---'*10)                               \n",
        "  return datas                                   \n",
        "                                              \n",
        "\n",
        "if __name__ == '__main__':\n",
        "  print(\"原始排列:\")\n",
        "  print(sampleList)\n",
        "  print(\"選擇排序大到小排列過程:\")\n",
        "  sampleList = Selection_Sort(sampleList) \n",
        "  print(\"選擇排序大到小排列結果:\")\n",
        "  print(sampleList)"
      ],
      "execution_count": 25,
      "outputs": [
        {
          "output_type": "stream",
          "text": [
            "隨機產⽣8個數字\n",
            "[86, 58, 0, 68, 43, 39, 15, 27]\n",
            "原始排列:\n",
            "[86, 58, 0, 68, 43, 39, 15, 27]\n",
            "選擇排序大到小排列過程:\n",
            "step 1\n",
            "[86, 58, 0, 68, 43, 39, 15, 27]\n",
            "------------------------------\n",
            "step 2\n",
            "[86, 68, 0, 58, 43, 39, 15, 27]\n",
            "------------------------------\n",
            "step 3\n",
            "[86, 68, 58, 0, 43, 39, 15, 27]\n",
            "------------------------------\n",
            "step 4\n",
            "[86, 68, 58, 43, 0, 39, 15, 27]\n",
            "------------------------------\n",
            "step 5\n",
            "[86, 68, 58, 43, 39, 0, 15, 27]\n",
            "------------------------------\n",
            "step 6\n",
            "[86, 68, 58, 43, 39, 27, 15, 0]\n",
            "------------------------------\n",
            "step 7\n",
            "[86, 68, 58, 43, 39, 27, 15, 0]\n",
            "------------------------------\n",
            "選擇排序大到小排列結果:\n",
            "[86, 68, 58, 43, 39, 27, 15, 0]\n"
          ],
          "name": "stdout"
        }
      ]
    },
    {
      "cell_type": "code",
      "metadata": {
        "colab": {
          "base_uri": "https://localhost:8080/"
        },
        "id": "Rer-sCn2teTY",
        "outputId": "4f6a7600-2bb2-440c-f5b8-b066128ff819"
      },
      "source": [
        "import random\n",
        "\n",
        "# 首先亂數產出一組List(隨機產⽣8個數字)\n",
        "sampleList = []\n",
        "s = 0\n",
        "while s < 8: #8個\n",
        "  tempRandNum = random.randint(0,100) #區間0到100\n",
        "  sampleList.append(tempRandNum) #加在list最後\n",
        "  s = s + 1 \n",
        "\n",
        "# 印出原始List\n",
        "print(\"隨機產⽣8個數字\")\n",
        "print(sampleList)\n",
        "\n",
        "def Insertion_Sort(datas):  #插入排序法(Insertion Sort)\n",
        "  for i in range(len(datas)): #有幾個數需執行幾次(需執行8次) i=0到7\n",
        "    preIndex = i-1 #前一項 \n",
        "    current = datas[i] #暫存目前資料\n",
        "    while preIndex >= 0 and datas[preIndex] > current: #判斷preIndex是否大於等於0,且前面的值大於目前的值 #第一項跳過迴圈(因為<0)直接放在第一個\n",
        "      datas[preIndex+1] = datas[preIndex] #把所有元素往後移\n",
        "      preIndex-=1\n",
        "    datas[preIndex+1] = current #最小的元素放在第一個\n",
        "    print(\"step\",i+1) #第幾步 \n",
        "    print(datas)   #列印出數列\n",
        "    print('---'*10)\n",
        "  return datas\n",
        "\n",
        "if __name__ == '__main__': \n",
        "  print(\"原始排列:\")\n",
        "  print(sampleList)\n",
        "  print(\"插入排序小到大排列過程:\")\n",
        "  sampleList=Insertion_Sort(sampleList)\n",
        "  print(\"插入排序小到大排列結果:\")\n",
        "  print(sampleList)\n"
      ],
      "execution_count": 27,
      "outputs": [
        {
          "output_type": "stream",
          "text": [
            "隨機產⽣8個數字\n",
            "[85, 40, 53, 75, 21, 37, 41, 43]\n",
            "原始排列:\n",
            "[85, 40, 53, 75, 21, 37, 41, 43]\n",
            "插入排序小到大排列過程:\n",
            "step 1\n",
            "[85, 40, 53, 75, 21, 37, 41, 43]\n",
            "------------------------------\n",
            "step 2\n",
            "[40, 85, 53, 75, 21, 37, 41, 43]\n",
            "------------------------------\n",
            "step 3\n",
            "[40, 53, 85, 75, 21, 37, 41, 43]\n",
            "------------------------------\n",
            "step 4\n",
            "[40, 53, 75, 85, 21, 37, 41, 43]\n",
            "------------------------------\n",
            "step 5\n",
            "[21, 40, 53, 75, 85, 37, 41, 43]\n",
            "------------------------------\n",
            "step 6\n",
            "[21, 37, 40, 53, 75, 85, 41, 43]\n",
            "------------------------------\n",
            "step 7\n",
            "[21, 37, 40, 41, 53, 75, 85, 43]\n",
            "------------------------------\n",
            "step 8\n",
            "[21, 37, 40, 41, 43, 53, 75, 85]\n",
            "------------------------------\n",
            "插入排序小到大排列結果:\n",
            "[21, 37, 40, 41, 43, 53, 75, 85]\n"
          ],
          "name": "stdout"
        }
      ]
    }
  ]
}