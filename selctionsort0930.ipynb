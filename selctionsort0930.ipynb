{
  "nbformat": 4,
  "nbformat_minor": 0,
  "metadata": {
    "colab": {
      "name": "selctionsort0930.ipynb",
      "provenance": [],
      "authorship_tag": "ABX9TyNoYkUjPNE0sPtvaZfm4Fuj",
      "include_colab_link": true
    },
    "kernelspec": {
      "name": "python3",
      "display_name": "Python 3"
    }
  },
  "cells": [
    {
      "cell_type": "markdown",
      "metadata": {
        "id": "view-in-github",
        "colab_type": "text"
      },
      "source": [
        "<a href=\"https://colab.research.google.com/github/hsiuliwang/algorithm_test/blob/master/selctionsort0930.ipynb\" target=\"_parent\"><img src=\"https://colab.research.google.com/assets/colab-badge.svg\" alt=\"Open In Colab\"/></a>"
      ]
    },
    {
      "cell_type": "code",
      "metadata": {
        "id": "4Y91EklcIxnJ",
        "outputId": "2bde7f86-e0b0-4edf-e7ea-fde21a6849f1",
        "colab": {
          "base_uri": "https://localhost:8080/",
          "height": 554
        }
      },
      "source": [
        "def Selction_Sort(datas):\n",
        "    for i in range(len(datas)-1):                             # n\n",
        "        min = i # 第一次選從第一個數開始,第二次從第二個數開始             # n               \n",
        "        for j in range(i+1, len(datas)):    # 用記錄的max數與其他的比較     # n*n\n",
        "            if datas[j] < datas[min]:                       # n^2\n",
        "                min = j                            # n^2\n",
        "\n",
        "        datas[i], datas[min] = datas[min], datas[i]                 # n\n",
        "\n",
        "        print(datas)                                  # n\n",
        "        print('---'*10)                                # n\n",
        "    return datas                                    # 1\n",
        "                                              ##### 3*(n^2)+5*n+1  O(N^2)\n",
        "\n",
        "if __name__ == '__main__':\n",
        "    import random\n",
        "    a = list(range(16))\n",
        "    random.shuffle(a)\n",
        "    print(a)\n",
        "    a = Selction_Sort(a)\n",
        "    print(a)"
      ],
      "execution_count": 1,
      "outputs": [
        {
          "output_type": "stream",
          "text": [
            "[2, 12, 3, 6, 1, 9, 7, 0, 4, 11, 5, 8, 15, 14, 13, 10]\n",
            "[0, 12, 3, 6, 1, 9, 7, 2, 4, 11, 5, 8, 15, 14, 13, 10]\n",
            "------------------------------\n",
            "[0, 1, 3, 6, 12, 9, 7, 2, 4, 11, 5, 8, 15, 14, 13, 10]\n",
            "------------------------------\n",
            "[0, 1, 2, 6, 12, 9, 7, 3, 4, 11, 5, 8, 15, 14, 13, 10]\n",
            "------------------------------\n",
            "[0, 1, 2, 3, 12, 9, 7, 6, 4, 11, 5, 8, 15, 14, 13, 10]\n",
            "------------------------------\n",
            "[0, 1, 2, 3, 4, 9, 7, 6, 12, 11, 5, 8, 15, 14, 13, 10]\n",
            "------------------------------\n",
            "[0, 1, 2, 3, 4, 5, 7, 6, 12, 11, 9, 8, 15, 14, 13, 10]\n",
            "------------------------------\n",
            "[0, 1, 2, 3, 4, 5, 6, 7, 12, 11, 9, 8, 15, 14, 13, 10]\n",
            "------------------------------\n",
            "[0, 1, 2, 3, 4, 5, 6, 7, 12, 11, 9, 8, 15, 14, 13, 10]\n",
            "------------------------------\n",
            "[0, 1, 2, 3, 4, 5, 6, 7, 8, 11, 9, 12, 15, 14, 13, 10]\n",
            "------------------------------\n",
            "[0, 1, 2, 3, 4, 5, 6, 7, 8, 9, 11, 12, 15, 14, 13, 10]\n",
            "------------------------------\n",
            "[0, 1, 2, 3, 4, 5, 6, 7, 8, 9, 10, 12, 15, 14, 13, 11]\n",
            "------------------------------\n",
            "[0, 1, 2, 3, 4, 5, 6, 7, 8, 9, 10, 11, 15, 14, 13, 12]\n",
            "------------------------------\n",
            "[0, 1, 2, 3, 4, 5, 6, 7, 8, 9, 10, 11, 12, 14, 13, 15]\n",
            "------------------------------\n",
            "[0, 1, 2, 3, 4, 5, 6, 7, 8, 9, 10, 11, 12, 13, 14, 15]\n",
            "------------------------------\n",
            "[0, 1, 2, 3, 4, 5, 6, 7, 8, 9, 10, 11, 12, 13, 14, 15]\n",
            "------------------------------\n",
            "[0, 1, 2, 3, 4, 5, 6, 7, 8, 9, 10, 11, 12, 13, 14, 15]\n"
          ],
          "name": "stdout"
        }
      ]
    }
  ]
}