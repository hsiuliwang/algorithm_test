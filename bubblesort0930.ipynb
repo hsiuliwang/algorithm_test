{
  "nbformat": 4,
  "nbformat_minor": 0,
  "metadata": {
    "colab": {
      "name": "0930_bubblesort.ipynb",
      "provenance": [],
      "collapsed_sections": [],
      "include_colab_link": true
    },
    "kernelspec": {
      "name": "python3",
      "display_name": "Python 3"
    }
  },
  "cells": [
    {
      "cell_type": "markdown",
      "metadata": {
        "id": "view-in-github",
        "colab_type": "text"
      },
      "source": [
        "<a href=\"https://colab.research.google.com/github/hsiuliwang/algorithm_test/blob/master/bubblesort0930.ipynb\" target=\"_parent\"><img src=\"https://colab.research.google.com/assets/colab-badge.svg\" alt=\"Open In Colab\"/></a>"
      ]
    },
    {
      "cell_type": "markdown",
      "metadata": {
        "id": "32sgU0StMiof"
      },
      "source": [
        "Bubble sort (氣泡排序)"
      ]
    },
    {
      "cell_type": "code",
      "metadata": {
        "id": "esB_4fSeMLYJ",
        "outputId": "34feeb69-0afd-4320-e4c7-f26cff55b9c7",
        "colab": {
          "base_uri": "https://localhost:8080/",
          "height": 84
        }
      },
      "source": [
        "def Bubble_Sort(datas):\n",
        "    for i in range(1, len(datas)): # \n",
        "        for j in range(len(datas)-i):   # \n",
        "            if datas[j] > datas[j+1]:   # \n",
        "                datas[j], datas[j+1] = datas[j+1], datas[j]\n",
        "    return datas\n",
        "\n",
        "#Num_1=int(input('請輸入第一個數字:'))\n",
        "#Num_2=int(input('請輸入第二個數字:'))\n",
        "\n",
        "arr = input('請輸入六個數字:')      #手動輸入六個數字\n",
        "num = [int(n) for n in arr.split()]  #存成一串列\n",
        "print(\"你輸入的數列:\")\n",
        "print(num)\n",
        "\n",
        "if __name__ == '__main__':    \n",
        "    num = Bubble_Sort(num) \n",
        "    print(\"氣泡排序法後的結果:\") \n",
        "    print(num)\n",
        "\n",
        "#if __name__ == '__main__':\n",
        "    #import random\n",
        "    #a = list(range(20))\n",
        "    #random.shuffle(a)\n",
        "    #print(a)\n",
        "    #a = Bubble_Sort(a)\n",
        "    #print(a)"
      ],
      "execution_count": null,
      "outputs": [
        {
          "output_type": "stream",
          "text": [
            "請輸入六個數字:2 4 66 7 33 4 88\n",
            "你輸入的數列:\n",
            "[2, 4, 66, 7, 33, 4, 88]\n",
            "[2, 4, 4, 7, 33, 66, 88]\n"
          ],
          "name": "stdout"
        }
      ]
    },
    {
      "cell_type": "markdown",
      "metadata": {
        "id": "MOQ_aZKnM-wL"
      },
      "source": [
        "請加入註解，並將程式修改為加入六個數做氣泡排序\n"
      ]
    }
  ]
}