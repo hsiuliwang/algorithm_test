{
  "nbformat": 4,
  "nbformat_minor": 0,
  "metadata": {
    "colab": {
      "name": "new.ipynb",
      "provenance": [],
      "authorship_tag": "ABX9TyPe3w54lZEB2SC7bYqaqLU/",
      "include_colab_link": true
    },
    "kernelspec": {
      "name": "python3",
      "display_name": "Python 3"
    }
  },
  "cells": [
    {
      "cell_type": "markdown",
      "metadata": {
        "id": "view-in-github",
        "colab_type": "text"
      },
      "source": [
        "<a href=\"https://colab.research.google.com/github/hsiuliwang/algorithm_test/blob/master/mid_ttt.ipynb\" target=\"_parent\"><img src=\"https://colab.research.google.com/assets/colab-badge.svg\" alt=\"Open In Colab\"/></a>"
      ]
    },
    {
      "cell_type": "code",
      "metadata": {
        "id": "f9RZ3l-JLm48"
      },
      "source": [
        ""
      ],
      "execution_count": 2,
      "outputs": []
    },
    {
      "cell_type": "markdown",
      "metadata": {
        "id": "6X3-Dl_Vj_AZ"
      },
      "source": [
        "檔名：1118期中考\n",
        "⽤Python實作 “選擇排序法”、\"插入排序法”\n",
        "• 隨機產⽣8個數字，分別使⽤兩種⽅法將數字做排序\n",
        "• 選擇(⼤到⼩)、插入(⼩到⼤)\n",
        "• 需解釋演算法設計(註解)"
      ]
    },
    {
      "cell_type": "code",
      "metadata": {
        "id": "D4aACuD_jvdh",
        "outputId": "42203574-7165-4bb4-e538-965430d3bc22",
        "colab": {
          "base_uri": "https://localhost:8080/"
        }
      },
      "source": [
        "import random\n",
        "\n",
        "# 首先亂數產出一組List(隨機產⽣8個數字)\n",
        "sampleList = []\n",
        "s = 0\n",
        "while s < 8: #8個\n",
        "     tempRandNum = random.randint(0,100) #區間0到100\n",
        "     sampleList.append(tempRandNum) #加在list最後\n",
        "     s = s + 1 \n",
        "\n",
        "# 印出原始List\n",
        "print(\"隨機產⽣8個數字\")\n",
        "print(sampleList)"
      ],
      "execution_count": 68,
      "outputs": [
        {
          "output_type": "stream",
          "text": [
            "隨機產⽣8個數字\n",
            "[95, 0, 36, 69, 84, 79, 54, 93]\n"
          ],
          "name": "stdout"
        }
      ]
    },
    {
      "cell_type": "code",
      "metadata": {
        "id": "E_ykRglojTNb",
        "outputId": "67bd30db-eb9b-464a-fd83-2f7639011cef",
        "colab": {
          "base_uri": "https://localhost:8080/"
        }
      },
      "source": [
        "def Selction_Sort(datas): #選擇排序法(Selection Sort)\n",
        "    for i in range(len(datas)-1):                             \n",
        "        max = i # 第一次選從第一個數開始,第二次從第二個數開始                           \n",
        "        for j in range(i+1, len(datas)):    # 用記錄的數與其他的比較     \n",
        "            if datas[j] > datas[max]:     #因為是大到小排列 所以判對是否大於                  \n",
        "                max = j                            \n",
        "                \n",
        "        datas[i], datas[max] = datas[max], datas[i] ##交換               \n",
        "\n",
        "        print(datas)                                 \n",
        "        print('---'*10)                                \n",
        "    return datas                                    \n",
        "\n",
        "if __name__ == '__main__':\n",
        "  print(\"原始排列:\")\n",
        "  Selction_Sort_list=sampleList\n",
        "  print(Selction_Sort_list)\n",
        "  print(\"過程:\")\n",
        "  Selction_Sort_list = Selction_Sort(Selction_Sort_list)\n",
        "  print(\"選擇排序大到小排列結果:\")\n",
        "  print(Selction_Sort_list)"
      ],
      "execution_count": 69,
      "outputs": [
        {
          "output_type": "stream",
          "text": [
            "原始排列:\n",
            "[95, 0, 36, 69, 84, 79, 54, 93]\n",
            "過程:\n",
            "[95, 0, 36, 69, 84, 79, 54, 93]\n",
            "------------------------------\n",
            "[95, 93, 36, 69, 84, 79, 54, 0]\n",
            "------------------------------\n",
            "[95, 93, 84, 69, 36, 79, 54, 0]\n",
            "------------------------------\n",
            "[95, 93, 84, 79, 36, 69, 54, 0]\n",
            "------------------------------\n",
            "[95, 93, 84, 79, 69, 36, 54, 0]\n",
            "------------------------------\n",
            "[95, 93, 84, 79, 69, 54, 36, 0]\n",
            "------------------------------\n",
            "[95, 93, 84, 79, 69, 54, 36, 0]\n",
            "------------------------------\n",
            "選擇排序大到小排列結果:\n",
            "[95, 93, 84, 79, 69, 54, 36, 0]\n"
          ],
          "name": "stdout"
        }
      ]
    },
    {
      "cell_type": "code",
      "metadata": {
        "id": "who542joj6B2",
        "outputId": "d5238d95-9e58-44e7-dd13-5b424bf3f2d9",
        "colab": {
          "base_uri": "https://localhost:8080/"
        }
      },
      "source": [
        "def Insertion_Sort(datas):\n",
        "    for i in range(1, len(datas)):    # n\n",
        "        for j in range(i):       # n*n\n",
        "            current = datas[i]    # n^2\n",
        "            if current < datas[j]:   # n^2\n",
        "                for k in range(i,j): # n^2 *n  \n",
        "                  print(datas)     #此範例的時間複雜度為 O(N^3)\n",
        "    return datas\n",
        "\"\"\"\n",
        "圖說演算法課本上的範例 為較好的演算法 時間複雜度為O(N^2)\n",
        "def insert(data):\n",
        "    for i in range(1,SIZE):    #n\n",
        "        tmp=data[i]       #n    \n",
        "        no=i-1          #n\n",
        "        while no>0 and tmp<data[no]:  #n*n\n",
        "            data[no+1]=data[no]    #n^2\n",
        "            no-=1           #n^2\n",
        "            data[no+1]=tmp      #n^2\n",
        "\"\"\"\n",
        "\n",
        "\n",
        "\n",
        "\n",
        "def insertionSort(arr):\n",
        "    for i in range(len(arr)):\n",
        "        preIndex = i-1\n",
        "        current = arr[i]\n",
        "        while preIndex >= 0 and arr[preIndex] > current:\n",
        "            arr[preIndex+1] = arr[preIndex]\n",
        "            preIndex-=1\n",
        "        arr[preIndex+1] = current\n",
        "        print(arr)\n",
        "    return arr\n",
        "\n",
        "if __name__ == '__main__':\n",
        "   \n",
        "  print(\"原始排列:\")\n",
        "  insertionSort_list=sampleList\n",
        "  print(sampleList)\n",
        "  print(insertionSort_list)\n",
        "  print(\"過程:\")\n",
        "  insertionSort_list = Insertion_Sort(insertionSort_list)\n",
        "  print(\"插入排序小到大排列結果:\")\n",
        "  print(insertionSort_list)"
      ],
      "execution_count": 70,
      "outputs": [
        {
          "output_type": "stream",
          "text": [
            "原始排列:\n",
            "[95, 93, 84, 79, 69, 54, 36, 0]\n",
            "[95, 93, 84, 79, 69, 54, 36, 0]\n",
            "過程:\n",
            "插入排序小到大排列結果:\n",
            "[95, 93, 84, 79, 69, 54, 36, 0]\n"
          ],
          "name": "stdout"
        }
      ]
    },
    {
      "cell_type": "code",
      "metadata": {
        "id": "q9eSqOBAnfdj",
        "outputId": "9ba82a8b-ae51-4065-9dc9-24e32340255f",
        "colab": {
          "base_uri": "https://localhost:8080/"
        }
      },
      "source": [
        "import random\n",
        "\n",
        "# 首先亂數產出一組List(隨機產⽣8個數字)\n",
        "sampleList = []\n",
        "s = 0\n",
        "while s < 8: #8個\n",
        "     tempRandNum = random.randint(0,100) #區間0到100\n",
        "     sampleList.append(tempRandNum) #加在list最後\n",
        "     s = s + 1 \n",
        "\n",
        "# 印出原始List\n",
        "print(\"隨機產⽣8個數字\")\n",
        "print(sampleList)\n",
        "\n",
        "def Selction_Sort(datas): #選擇排序法(Selection Sort)\n",
        "    for i in range(len(datas)-1):                             \n",
        "        max = i # 第一次選從第一個數開始,第二次從第二個數開始                         \n",
        "        for j in range(i+1, len(datas)):    # 用記錄的數與其他的比較     \n",
        "            if datas[j] > datas[max]:                       \n",
        "                max = j                            # n^2\n",
        "\n",
        "        datas[i], datas[max] = datas[max], datas[i]                 # n\n",
        "\n",
        "        print(datas)                                  # n\n",
        "        print('---'*10)                                # n\n",
        "    return datas                                    # 1\n",
        "                                              ##### 3*(n^2)+5*n+1  O(N^2)\n",
        "                                              #選擇排序法(Selection Sort) 時間複雜度為O(N^2) \n",
        "\n",
        "if __name__ == '__main__':\n",
        "    print(\"原始排列:\")\n",
        "    print(sampleList)\n",
        "    print(\"過程:\")\n",
        "    sampleList = Selction_Sort(sampleList)\n",
        "    print(\"大到小排列結果:\")\n",
        "    print(sampleList)"
      ],
      "execution_count": 44,
      "outputs": [
        {
          "output_type": "stream",
          "text": [
            "隨機產⽣8個數字\n",
            "[10, 88, 100, 3, 78, 75, 94, 48]\n",
            "原始排列:\n",
            "[10, 88, 100, 3, 78, 75, 94, 48]\n",
            "過程:\n",
            "[100, 88, 10, 3, 78, 75, 94, 48]\n",
            "------------------------------\n",
            "[100, 94, 10, 3, 78, 75, 88, 48]\n",
            "------------------------------\n",
            "[100, 94, 88, 3, 78, 75, 10, 48]\n",
            "------------------------------\n",
            "[100, 94, 88, 78, 3, 75, 10, 48]\n",
            "------------------------------\n",
            "[100, 94, 88, 78, 75, 3, 10, 48]\n",
            "------------------------------\n",
            "[100, 94, 88, 78, 75, 48, 10, 3]\n",
            "------------------------------\n",
            "[100, 94, 88, 78, 75, 48, 10, 3]\n",
            "------------------------------\n",
            "大到小排列結果:\n",
            "[100, 94, 88, 78, 75, 48, 10, 3]\n"
          ],
          "name": "stdout"
        }
      ]
    }
  ]
}