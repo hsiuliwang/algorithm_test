{
  "nbformat": 4,
  "nbformat_minor": 0,
  "metadata": {
    "colab": {
      "name": "new.ipynb",
      "provenance": [],
      "authorship_tag": "ABX9TyMzLP3iV4LVG/uRvMYGHHCM",
      "include_colab_link": true
    },
    "kernelspec": {
      "name": "python3",
      "display_name": "Python 3"
    }
  },
  "cells": [
    {
      "cell_type": "markdown",
      "metadata": {
        "id": "view-in-github",
        "colab_type": "text"
      },
      "source": [
        "<a href=\"https://colab.research.google.com/github/hsiuliwang/algorithm_test/blob/master/mid_ttt.ipynb\" target=\"_parent\"><img src=\"https://colab.research.google.com/assets/colab-badge.svg\" alt=\"Open In Colab\"/></a>"
      ]
    },
    {
      "cell_type": "code",
      "metadata": {
        "id": "f9RZ3l-JLm48"
      },
      "source": [
        ""
      ],
      "execution_count": 2,
      "outputs": []
    },
    {
      "cell_type": "markdown",
      "metadata": {
        "id": "6X3-Dl_Vj_AZ"
      },
      "source": [
        "檔名：1118期中考\n",
        "⽤Python實作 “選擇排序法”、\"插入排序法”\n",
        "• 隨機產⽣8個數字，分別使⽤兩種⽅法將數字做排序\n",
        "• 選擇(⼤到⼩)、插入(⼩到⼤)\n",
        "• 需解釋演算法設計(註解)"
      ]
    },
    {
      "cell_type": "code",
      "metadata": {
        "id": "xOhqdf9qtWVy",
        "outputId": "8c0db18b-e675-4b4d-cede-33eef71b379c",
        "colab": {
          "base_uri": "https://localhost:8080/"
        }
      },
      "source": [
        "import random\n",
        "\n",
        "# 首先亂數產出一組List(隨機產⽣8個數字)\n",
        "sampleList = []\n",
        "s = 0\n",
        "while s < 8: #8個\n",
        "     tempRandNum = random.randint(0,100) #區間0到100\n",
        "     sampleList.append(tempRandNum) #加在list最後\n",
        "     s = s + 1 \n",
        "\n",
        "# 印出原始List\n",
        "print(\"隨機產⽣8個數字\")\n",
        "print(sampleList)\n",
        "\n",
        "def Selction_Sort(datas): #選擇排序法(Selection Sort)\n",
        "    for i in range(len(datas)-1):                             \n",
        "        max = i # 第一次選從第一個數開始,第二次從第二個數開始                         \n",
        "        for j in range(i+1, len(datas)):    # 用記錄的數與其他的比較     \n",
        "            if datas[j] > datas[max]:                       \n",
        "                max = j                            # n^2\n",
        "\n",
        "        datas[i], datas[max] = datas[max], datas[i]                 # n\n",
        "\n",
        "        print(datas)                                  # n\n",
        "        print('---'*10)                                # n\n",
        "    return datas                                    # 1\n",
        "                                              ##### 3*(n^2)+5*n+1  O(N^2)\n",
        "                                              #選擇排序法(Selection Sort) 時間複雜度為O(N^2) \n",
        "\n",
        "if __name__ == '__main__':\n",
        "    print(\"原始排列:\")\n",
        "    print(sampleList)\n",
        "    print(\"過程:\")\n",
        "    sampleList = Selction_Sort(sampleList)\n",
        "    print(\"大到小排列結果:\")\n",
        "    print(sampleList)"
      ],
      "execution_count": 71,
      "outputs": [
        {
          "output_type": "stream",
          "text": [
            "隨機產⽣8個數字\n",
            "[43, 47, 14, 97, 26, 91, 49, 30]\n",
            "原始排列:\n",
            "[43, 47, 14, 97, 26, 91, 49, 30]\n",
            "過程:\n",
            "[97, 47, 14, 43, 26, 91, 49, 30]\n",
            "------------------------------\n",
            "[97, 91, 14, 43, 26, 47, 49, 30]\n",
            "------------------------------\n",
            "[97, 91, 49, 43, 26, 47, 14, 30]\n",
            "------------------------------\n",
            "[97, 91, 49, 47, 26, 43, 14, 30]\n",
            "------------------------------\n",
            "[97, 91, 49, 47, 43, 26, 14, 30]\n",
            "------------------------------\n",
            "[97, 91, 49, 47, 43, 30, 14, 26]\n",
            "------------------------------\n",
            "[97, 91, 49, 47, 43, 30, 26, 14]\n",
            "------------------------------\n",
            "大到小排列結果:\n",
            "[97, 91, 49, 47, 43, 30, 26, 14]\n"
          ],
          "name": "stdout"
        }
      ]
    },
    {
      "cell_type": "code",
      "metadata": {
        "id": "Rer-sCn2teTY",
        "outputId": "e534538a-d169-4ea1-9cf3-6a4652bbb5f1",
        "colab": {
          "base_uri": "https://localhost:8080/"
        }
      },
      "source": [
        "import random\n",
        "\n",
        "# 首先亂數產出一組List(隨機產⽣8個數字)\n",
        "sampleList = []\n",
        "s = 0\n",
        "while s < 8: #8個\n",
        "     tempRandNum = random.randint(0,100) #區間0到100\n",
        "     sampleList.append(tempRandNum) #加在list最後\n",
        "     s = s + 1 \n",
        "\n",
        "# 印出原始List\n",
        "print(\"隨機產⽣8個數字\")\n",
        "print(sampleList)\n",
        "\n",
        "def insertionSort(arr):\n",
        "    for i in range(len(arr)):\n",
        "        preIndex = i-1\n",
        "        current = arr[i]\n",
        "        while preIndex >= 0 and arr[preIndex] > current:\n",
        "            arr[preIndex+1] = arr[preIndex]\n",
        "            preIndex-=1\n",
        "        arr[preIndex+1] = current\n",
        "        print(arr)\n",
        "    return arr\n",
        "\n",
        "if __name__ == '__main__':\n",
        "    \n",
        "    print(\"原始排列:\")\n",
        "    print(sampleList)\n",
        "    print(\"過程:\")\n",
        "    sampleList=insertionSort(sampleList)\n",
        "    print('---'*18)\n",
        "    print(\"小到大排列結果:\")\n",
        "    print(sampleList)\n"
      ],
      "execution_count": 78,
      "outputs": [
        {
          "output_type": "stream",
          "text": [
            "隨機產⽣8個數字\n",
            "[86, 88, 36, 59, 87, 81, 33, 77]\n",
            "原始排列:\n",
            "[86, 88, 36, 59, 87, 81, 33, 77]\n",
            "過程:\n",
            "[86, 88, 36, 59, 87, 81, 33, 77]\n",
            "[86, 88, 36, 59, 87, 81, 33, 77]\n",
            "[36, 86, 88, 59, 87, 81, 33, 77]\n",
            "[36, 59, 86, 88, 87, 81, 33, 77]\n",
            "[36, 59, 86, 87, 88, 81, 33, 77]\n",
            "[36, 59, 81, 86, 87, 88, 33, 77]\n",
            "[33, 36, 59, 81, 86, 87, 88, 77]\n",
            "[33, 36, 59, 77, 81, 86, 87, 88]\n",
            "------------------------------------------------------\n",
            "小到大排列結果:\n",
            "[33, 36, 59, 77, 81, 86, 87, 88]\n"
          ],
          "name": "stdout"
        }
      ]
    },
    {
      "cell_type": "code",
      "metadata": {
        "id": "t6Zui9MyteV3"
      },
      "source": [
        ""
      ],
      "execution_count": null,
      "outputs": []
    },
    {
      "cell_type": "code",
      "metadata": {
        "colab": {
          "base_uri": "https://localhost:8080/"
        },
        "id": "who542joj6B2",
        "outputId": "1eaa1f81-d936-42e3-8870-88420158bb21"
      },
      "source": [
        "def Insertion_Sort(datas):\n",
        "    for i in range(1, len(datas)):    # n\n",
        "        for j in range(i):       # n*n\n",
        "            current = datas[i]    # n^2\n",
        "            if current < datas[j]:   # n^2\n",
        "                for k in range(i,j): # n^2 *n  \n",
        "                  print(datas)     #此範例的時間複雜度為 O(N^3)\n",
        "    return datas\n",
        "\"\"\"\n",
        "圖說演算法課本上的範例 為較好的演算法 時間複雜度為O(N^2)\n",
        "def insert(data):\n",
        "    for i in range(1,SIZE):    #n\n",
        "        tmp=data[i]       #n    \n",
        "        no=i-1          #n\n",
        "        while no>0 and tmp<data[no]:  #n*n\n",
        "            data[no+1]=data[no]    #n^2\n",
        "            no-=1           #n^2\n",
        "            data[no+1]=tmp      #n^2\n",
        "\"\"\"\n",
        "\n",
        "\n",
        "\n",
        "\n",
        "def insertionSort(arr):\n",
        "    for i in range(len(arr)):\n",
        "        preIndex = i-1\n",
        "        current = arr[i]\n",
        "        while preIndex >= 0 and arr[preIndex] > current:\n",
        "            arr[preIndex+1] = arr[preIndex]\n",
        "            preIndex-=1\n",
        "        arr[preIndex+1] = current\n",
        "        print(arr)\n",
        "    return arr\n",
        "\n",
        "if __name__ == '__main__':\n",
        "   \n",
        "  print(\"原始排列:\")\n",
        "  insertionSort_list=sampleList\n",
        "  print(sampleList)\n",
        "  print(insertionSort_list)\n",
        "  print(\"過程:\")\n",
        "  insertionSort_list = Insertion_Sort(insertionSort_list)\n",
        "  print(\"插入排序小到大排列結果:\")\n",
        "  print(insertionSort_list)"
      ],
      "execution_count": 74,
      "outputs": [
        {
          "output_type": "stream",
          "text": [
            "原始排列:\n",
            "[67, 25, 13, 67, 20, 0, 93, 89]\n",
            "[67, 25, 13, 67, 20, 0, 93, 89]\n",
            "過程:\n",
            "插入排序小到大排列結果:\n",
            "[67, 25, 13, 67, 20, 0, 93, 89]\n"
          ],
          "name": "stdout"
        }
      ]
    }
  ]
}