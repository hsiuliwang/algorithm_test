{
  "nbformat": 4,
  "nbformat_minor": 0,
  "metadata": {
    "colab": {
      "name": "ttt_mergesort.ipynb",
      "provenance": [],
      "authorship_tag": "ABX9TyO05eAlQKx75yUBxB1wVRkY",
      "include_colab_link": true
    },
    "kernelspec": {
      "name": "python3",
      "display_name": "Python 3"
    }
  },
  "cells": [
    {
      "cell_type": "markdown",
      "metadata": {
        "id": "view-in-github",
        "colab_type": "text"
      },
      "source": [
        "<a href=\"https://colab.research.google.com/github/hsiuliwang/algorithm_test/blob/master/ttt_mergesort.ipynb\" target=\"_parent\"><img src=\"https://colab.research.google.com/assets/colab-badge.svg\" alt=\"Open In Colab\"/></a>"
      ]
    },
    {
      "cell_type": "code",
      "metadata": {
        "id": "l94S-Zeo9RYa"
      },
      "source": [
        ""
      ],
      "execution_count": 9,
      "outputs": []
    },
    {
      "cell_type": "code",
      "metadata": {
        "id": "t4oSEyXtBmh0",
        "outputId": "5da80bee-a545-40da-e1c2-ddf388575678",
        "colab": {
          "base_uri": "https://localhost:8080/"
        }
      },
      "source": [
        "import math\n",
        "import random\n",
        "\n",
        "# 首先亂數產出一組List\n",
        "sampleList = []\n",
        "s = 0\n",
        "while s < 9:\n",
        "     tempRandNum = random.randint(0,100)\n",
        "     sampleList.append(tempRandNum)\n",
        "     s = s + 1\n",
        "\n",
        "# 印出原始List\n",
        "print(sampleList)\n",
        "\n",
        "# 合併排序法的原理就是將要排序的數列，分割到最小單位(將所有數列都分割成只有一個值的數列)再合併，而合併的同時也將一併做排序，因此這邊會分成兩個Function去執行，一個負責分割，另一個負責合併跟排序\n",
        "\n",
        "# 這邊是合併的Function，合併時會有左邊的List和右邊的List\n",
        "def mergeList(leftList, rightList):\n",
        "\n",
        "    # 判斷左(右)邊的List，如果只有一邊有值，就可直接回傳\n",
        "     if len(leftList) == 0: \n",
        "         return rightList \n",
        "     elif len(rightList) == 0: \n",
        "         return leftList \n",
        "     # 比較兩邊List的第一個值，如果右邊大於左邊，那麼就將左邊的第一個值放入，並將後面的值繼續做合併和排序的工作，直到將所有的值都比較完為止\n",
        "     elif leftList[0] < rightList[0]:\n",
        "         return [leftList[0]] + mergeList(leftList[1:], rightList)\n",
        "     # 與上一段做的工作相同，方向相反\n",
        "     else: \n",
        "         return [rightList[0]] + mergeList(leftList, rightList[1:])\n",
        "\n",
        "# 這一段撰寫的是分割的Function\n",
        "def chopList(sourceList):\n",
        "    \n",
        "     # 如果List只包含一個值，則直接回傳\n",
        "     if 1 >= len(sourceList):\n",
        "         return sourceList\n",
        "     # 找出中間位置\n",
        "     centerKey = int(round(len(sourceList)/2))\n",
        "     leftList = []\n",
        "     rightList = []\n",
        "     # 將List分成左右兩邊\n",
        "     leftList = sourceList[0:centerKey]\n",
        "     rightList = sourceList[centerKey:]\n",
        "     # 不斷分割，直到List內剩下一個值\n",
        "     leftData = chopList(leftList)\n",
        "     rightData = chopList(rightList)\n",
        "     # 當無法分割時則開始合併\n",
        "     return mergeList(leftData, rightData)\n",
        "\n",
        "\n",
        "# 印出回傳的List\n",
        "print(chopList(sampleList))"
      ],
      "execution_count": 4,
      "outputs": [
        {
          "output_type": "stream",
          "text": [
            "[17, 18, 80, 97, 96, 5, 32, 64, 43]\n",
            "[5, 17, 18, 32, 43, 64, 80, 96, 97]\n"
          ],
          "name": "stdout"
        }
      ]
    },
    {
      "cell_type": "markdown",
      "metadata": {
        "id": "T8cVW5N09VG4"
      },
      "source": [
        "5 20 7 31 26 52 11 2"
      ]
    }
  ]
}